{
 "cells": [
  {
   "cell_type": "markdown",
   "metadata": {},
   "source": [
    "\n",
    "# HomeWork 10\n",
    "\n",
    "**DeadLine : 23;59 12 Azar 1398**\n",
    "\n",
    "**Total points : 100pts**"
   ]
  },
  {
   "cell_type": "markdown",
   "metadata": {},
   "source": [
    "Import some prerequisites."
   ]
  },
  {
   "cell_type": "code",
   "execution_count": null,
   "metadata": {
    "scrolled": true
   },
   "outputs": [],
   "source": [
    "import cv2\n",
    "import numpy as np\n",
    "import matplotlib.pyplot as plt\n",
    "import os\n",
    "import time"
   ]
  },
  {
   "cell_type": "markdown",
   "metadata": {},
   "source": [
    "Run this cell for plotting."
   ]
  },
  {
   "cell_type": "code",
   "execution_count": null,
   "metadata": {},
   "outputs": [],
   "source": [
    "def plotter(img_list, r, w, gray, wr, hr, fig_name = None):\n",
    "    '''\n",
    "    Plots images' list with its' caption and saves result image if you want.\n",
    "\n",
    "    Parameters:\n",
    "        img_list (list): The list of tuples of image and its' caption.\n",
    "        r (int): The number of row(s).\n",
    "        w (int): The number of colunm(s).\n",
    "        gray (bool): The flag for plotting images in grayscale mode.\n",
    "        wr (int): The width of one figure.\n",
    "        hr (int): The height of one figure.\n",
    "        fig_name (str): The name of the image of the plot. if not set this parameter the plot doesn't save.\n",
    "    '''\n",
    "    \n",
    "    plt.rcParams['figure.figsize'] = (wr, hr)\n",
    "    for i in range(len(img_list)):\n",
    "        plt.subplot(r, w, i + 1)\n",
    "        if img_list[i][2] == 'img':\n",
    "            if gray:\n",
    "                plt.imshow(img_list[i][0], cmap = 'gray')\n",
    "            else:\n",
    "                plt.imshow(img_list[i][0])\n",
    "            plt.xticks([])\n",
    "            plt.yticks([])\n",
    "        elif img_list[i][2] == 'hist':\n",
    "            plt.bar(np.arange(len(img_list[i][0])), img_list[i][0], color = 'c')\n",
    "        else:\n",
    "            raise Exception(\"Only image or histogram. Use third parameter of tuples in img_list and set it to img or hist.\")\n",
    "        plt.title(img_list[i][1])\n",
    "    if fig_name is not None:\n",
    "        plt.savefig(fig_name + '.png')\n",
    "    plt.show()"
   ]
  },
  {
   "cell_type": "markdown",
   "metadata": {},
   "source": [
    "# PART 3\n",
    "\n",
    "**Point : 35 pts**"
   ]
  },
  {
   "cell_type": "markdown",
   "metadata": {},
   "source": [
    "Here is for your helper functions(optional)."
   ]
  },
  {
   "cell_type": "code",
   "execution_count": null,
   "metadata": {},
   "outputs": [],
   "source": []
  },
  {
   "cell_type": "markdown",
   "metadata": {},
   "source": [
    "Implement this function to detect shapes and their colors in an input image."
   ]
  },
  {
   "cell_type": "code",
   "execution_count": null,
   "metadata": {},
   "outputs": [],
   "source": [
    "def detect_shape_color(image):\n",
    "    '''\n",
    "    Detects shapes and their color in the input image.\n",
    "    \n",
    "    Parameters:\n",
    "        image (numpy.ndarray): The input image.\n",
    "    \n",
    "    Returns:\n",
    "        numpy.ndarray: The result image.\n",
    "    '''\n",
    "    \n",
    "    result = image.copy()\n",
    "    \n",
    "    #Write your code here\n",
    "    \n",
    "    \n",
    "    return result"
   ]
  },
  {
   "cell_type": "markdown",
   "metadata": {},
   "source": [
    "Test your implementation (don't change this cell)."
   ]
  },
  {
   "cell_type": "code",
   "execution_count": null,
   "metadata": {},
   "outputs": [],
   "source": [
    "image_list = []\n",
    "image = cv2.imread(os.path.join('images', 'q3.png'))\n",
    "image_list.append([cv2.cvtColor(image, cv2.COLOR_BGR2RGB), 'source', 'img'])\n",
    "image_list.append([cv2.cvtColor(detect_shape_color(image), cv2.COLOR_BGR2RGB), 'result', 'img'])\n",
    "plotter(image_list, 1, 2, False, 20, 10, 'Q3')"
   ]
  },
  {
   "cell_type": "markdown",
   "metadata": {},
   "source": [
    "# PART 4\n",
    "\n",
    "**Point : 40 pts**"
   ]
  },
  {
   "cell_type": "markdown",
   "metadata": {},
   "source": [
    "Here is for your helper functions(optional)."
   ]
  },
  {
   "cell_type": "code",
   "execution_count": null,
   "metadata": {},
   "outputs": [],
   "source": []
  },
  {
   "cell_type": "markdown",
   "metadata": {},
   "source": [
    "Please, set your structuring element here:"
   ]
  },
  {
   "cell_type": "code",
   "execution_count": null,
   "metadata": {},
   "outputs": [],
   "source": [
    "structuring_element = None"
   ]
  },
  {
   "cell_type": "markdown",
   "metadata": {},
   "source": [
    "Implement this function to dilate the input image with a square element without using the OpenCV methods."
   ]
  },
  {
   "cell_type": "code",
   "execution_count": null,
   "metadata": {},
   "outputs": [],
   "source": [
    "def your_dilate(image, structuring_element):\n",
    "    '''\n",
    "    Applies your dilation.\n",
    "    \n",
    "    Parameters:\n",
    "        image (numpy.ndarray): The input image.\n",
    "        structuring_element (numpy.ndarray): The structuring element must be square.\n",
    "    \n",
    "    Returns:\n",
    "        numpy.ndarray: The result image.\n",
    "    '''\n",
    "    \n",
    "    result = image.copy()\n",
    "    \n",
    "    #Write your code here\n",
    "    \n",
    "    \n",
    "    return result"
   ]
  },
  {
   "cell_type": "markdown",
   "metadata": {},
   "source": [
    "Implement this function to erode the input image with a square element without using the OpenCV methods."
   ]
  },
  {
   "cell_type": "code",
   "execution_count": null,
   "metadata": {},
   "outputs": [],
   "source": [
    "def your_erode(image, structuring_element):\n",
    "    '''\n",
    "    Applies your erosion.\n",
    "    \n",
    "    Parameters:\n",
    "        image (numpy.ndarray): The input image.\n",
    "        structuring_element (numpy.ndarray): The structuring element must be square.\n",
    "    \n",
    "    Returns:\n",
    "        numpy.ndarray: The result image.\n",
    "    '''\n",
    "    \n",
    "    result = image.copy()\n",
    "    \n",
    "    #Write your code here\n",
    "    \n",
    "    \n",
    "    return result"
   ]
  },
  {
   "cell_type": "markdown",
   "metadata": {},
   "source": [
    "Implement this function to dilate the input image with a square element using the OpenCV methods."
   ]
  },
  {
   "cell_type": "code",
   "execution_count": null,
   "metadata": {},
   "outputs": [],
   "source": [
    "def cv_dilate(image, structuring_element):\n",
    "    '''\n",
    "    Applies OpenCV dilation.\n",
    "    \n",
    "    Parameters:\n",
    "        image (numpy.ndarray): The input image.\n",
    "        structuring_element (numpy.ndarray): The structuring element must be square.\n",
    "    \n",
    "    Returns:\n",
    "        numpy.ndarray: The result image.\n",
    "    '''\n",
    "    \n",
    "    result = image.copy()\n",
    "    \n",
    "    #Write your code here\n",
    "    \n",
    "    \n",
    "    return result"
   ]
  },
  {
   "cell_type": "markdown",
   "metadata": {},
   "source": [
    "Implement this function to erode the input image with a square element using the OpenCV methods."
   ]
  },
  {
   "cell_type": "code",
   "execution_count": null,
   "metadata": {},
   "outputs": [],
   "source": [
    "def cv_erode(image, structuring_element):\n",
    "    '''\n",
    "    Applys OpenCV erosion.\n",
    "    \n",
    "    Parameters:\n",
    "        image (numpy.ndarray): The input image.\n",
    "        structuring_element (numpy.ndarray): The structuring element must be square.\n",
    "    \n",
    "    Returns:\n",
    "        numpy.ndarray: The result image.\n",
    "    '''\n",
    "    \n",
    "    result = image.copy()\n",
    "    \n",
    "    #Write your code here\n",
    "    \n",
    "    \n",
    "    return result"
   ]
  },
  {
   "cell_type": "markdown",
   "metadata": {},
   "source": [
    "Test your implementation (don't change this cell)."
   ]
  },
  {
   "cell_type": "code",
   "execution_count": null,
   "metadata": {},
   "outputs": [],
   "source": [
    "image_list = []\n",
    "image = cv2.imread(os.path.join('images', 'q4.png'), cv2.IMREAD_GRAYSCALE)\n",
    "image_list.append([image, 'source', 'img'])\n",
    "t1 = time.time()\n",
    "y_dilate = your_dilate(image, structuring_element)\n",
    "t2 = time.time()\n",
    "print('time for your_dilate: %f s' % (t2 - t1))\n",
    "t1 = time.time()\n",
    "c_dilate = cv_dilate(image, structuring_element)\n",
    "t2 = time.time()\n",
    "print('time for cv_dilate: %f s' % (t2 - t1))\n",
    "t1 = time.time()\n",
    "y_erode = your_erode(image, structuring_element)\n",
    "t2 = time.time()\n",
    "print('time for your_erode: %f s' % (t2 - t1))\n",
    "t1 = time.time()\n",
    "c_erode = cv_erode(image, structuring_element)\n",
    "t2 = time.time()\n",
    "print('time for cv_erode: %f s' % (t2 - t1))\n",
    "image_list.append([y_dilate, 'your dilated', 'img'])\n",
    "image_list.append([c_dilate, 'cv dilated', 'img'])\n",
    "image_list.append([y_erode, 'your erode', 'img'])\n",
    "image_list.append([c_erode, 'cv erode', 'img'])\n",
    "plotter(image_list, 3, 2, True, 20, 10, 'Q4')"
   ]
  },
  {
   "cell_type": "markdown",
   "metadata": {},
   "source": [
    "To create proper files for sending in the Quera run this cell, please."
   ]
  },
  {
   "cell_type": "code",
   "execution_count": null,
   "metadata": {},
   "outputs": [],
   "source": [
    "!python notebook_converter.py"
   ]
  },
  {
   "cell_type": "markdown",
   "metadata": {},
   "source": [
    "End!!!"
   ]
  }
 ],
 "metadata": {
  "kernelspec": {
   "display_name": "Python 3",
   "language": "python",
   "name": "python3"
  },
  "language_info": {
   "codemirror_mode": {
    "name": "ipython",
    "version": 3
   },
   "file_extension": ".py",
   "mimetype": "text/x-python",
   "name": "python",
   "nbconvert_exporter": "python",
   "pygments_lexer": "ipython3",
   "version": "3.7.6"
  }
 },
 "nbformat": 4,
 "nbformat_minor": 4
}
