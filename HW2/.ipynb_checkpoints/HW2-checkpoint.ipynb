{
 "cells": [
  {
   "cell_type": "markdown",
   "metadata": {},
   "source": [
    "# HomeWork 2\n",
    "\n",
    "**DeadLine : 12:00 PM 14 Mehr 1399**\n",
    "\n",
    "**Total points : 100pts**"
   ]
  },
  {
   "cell_type": "markdown",
   "metadata": {},
   "source": [
    "Import some prerequisites"
   ]
  },
  {
   "cell_type": "code",
   "execution_count": 1,
   "metadata": {},
   "outputs": [],
   "source": [
    "import cv2\n",
    "import matplotlib.pyplot as plt\n",
    "import numpy as np\n",
    "import os"
   ]
  },
  {
   "cell_type": "markdown",
   "metadata": {},
   "source": [
    "Run this cell for plotting"
   ]
  },
  {
   "cell_type": "code",
   "execution_count": 2,
   "metadata": {},
   "outputs": [],
   "source": [
    "def plotter(img_list, r, w, gray, wr, hr, fig_name = None):\n",
    "    '''\n",
    "    Plots images' list with its' caption and saves result image if you want.\n",
    "\n",
    "    Parameters:\n",
    "        img_list (list): The list of tuples of image and its' caption.\n",
    "        r (int): The number of row(s).\n",
    "        w (int): The number of colunm(s).\n",
    "        gray (bool): The flag for plotting images in grayscale mode.\n",
    "        wr (int): The width of one figure.\n",
    "        hr (int): The height of one figure.\n",
    "        fig_name (str): The name of the image of the plot. if not set this parameter the plot doesn't save.\n",
    "    '''\n",
    "    \n",
    "    plt.rcParams['figure.figsize'] = (wr, hr)\n",
    "    for i in range(len(img_list)):\n",
    "        plt.subplot(r, w, i + 1)\n",
    "        if gray:\n",
    "            plt.imshow(img_list[i][0], cmap = 'gray')\n",
    "        else:\n",
    "            plt.imshow(img_list[i][0])\n",
    "        plt.title(img_list[i][1])\n",
    "        plt.xticks([])\n",
    "        plt.yticks([])\n",
    "    if fig_name is not None:\n",
    "        plt.savefig(fig_name + '.png')\n",
    "    plt.show()"
   ]
  },
  {
   "cell_type": "markdown",
   "metadata": {},
   "source": [
    "Run this cell is for histogram visualization"
   ]
  },
  {
   "cell_type": "code",
   "execution_count": 3,
   "metadata": {},
   "outputs": [],
   "source": [
    "def show_histogram(histogram, title, fig_name):\n",
    "    '''\n",
    "    Plots histogram with it's caption and saves result image.\n",
    "\n",
    "    Parameters:\n",
    "        histogram (numpy.ndarray): The numpy array of numbers in histogram.\n",
    "        title (str): The title of the plot.\n",
    "        fig_name (str): The name of the image of the plot.\n",
    "    '''\n",
    "    \n",
    "    plt.figure()\n",
    "    plt.bar(np.arange(256),histogram,color = 'c')\n",
    "    plt.title(title)\n",
    "    plt.savefig(fig_name + '.png')\n",
    "    plt.show()"
   ]
  },
  {
   "cell_type": "markdown",
   "metadata": {},
   "source": [
    "# PART 3A"
   ]
  },
  {
   "cell_type": "markdown",
   "metadata": {},
   "source": [
    "Here is for your helper functions(optional)"
   ]
  },
  {
   "cell_type": "code",
   "execution_count": null,
   "metadata": {},
   "outputs": [],
   "source": []
  },
  {
   "cell_type": "markdown",
   "metadata": {},
   "source": [
    "in this cell you should calculate histogram. don't use opencv methods here"
   ]
  },
  {
   "cell_type": "code",
   "execution_count": null,
   "metadata": {},
   "outputs": [],
   "source": [
    "def compute_histogram(image):\n",
    "    '''\n",
    "    Computes histogram of the input image.\n",
    "    \n",
    "    Parameters:\n",
    "        image (numpy.ndarray): The input image.\n",
    "    \n",
    "    Returns:\n",
    "        numpy.ndarray: The numpy array of numbers in histogram.   \n",
    "    '''\n",
    "    \n",
    "    histogram = np.zeros((256), np.int)\n",
    "    \n",
    "    ####### your code ########\n",
    "    \n",
    "\n",
    "    \n",
    "    ##########################\n",
    "    \n",
    "    return histogram"
   ]
  },
  {
   "cell_type": "markdown",
   "metadata": {},
   "source": [
    "Test your implementation (dont change this cell)"
   ]
  },
  {
   "cell_type": "code",
   "execution_count": null,
   "metadata": {},
   "outputs": [],
   "source": [
    "img = cv2.imread(os.path.join('images', 'img1.jpg'), cv2.IMREAD_GRAYSCALE)\n",
    "h = compute_histogram(img)\n",
    "show_histogram(h, 'hist', 'q3a')"
   ]
  },
  {
   "cell_type": "markdown",
   "metadata": {},
   "source": [
    "# PART 3B"
   ]
  },
  {
   "cell_type": "markdown",
   "metadata": {},
   "source": [
    "Here is for your helper functions(optional)"
   ]
  },
  {
   "cell_type": "code",
   "execution_count": null,
   "metadata": {},
   "outputs": [],
   "source": []
  },
  {
   "cell_type": "markdown",
   "metadata": {},
   "source": [
    "in this cell you should implement histogram visualization. please don't use opencv methods"
   ]
  },
  {
   "cell_type": "code",
   "execution_count": null,
   "metadata": {},
   "outputs": [],
   "source": [
    "def histogram_equalization(image):\n",
    "    '''\n",
    "    Equalizes the histogram of the input image.\n",
    "    \n",
    "    Parameters:\n",
    "        image (numpy.ndarray): The input image.\n",
    "    \n",
    "    Returns:\n",
    "        numpy.ndarray: The result image that it's histogram be eqaulized.   \n",
    "    '''\n",
    "    \n",
    "    h = compute_histogram(image)\n",
    "    out_image = image.copy()\n",
    "\n",
    "    ####### your code ########\n",
    "    \n",
    "    \n",
    "    ##########################\n",
    "        \n",
    "    return out_image  "
   ]
  },
  {
   "cell_type": "markdown",
   "metadata": {},
   "source": [
    "Test your implementation (dont change this cell)"
   ]
  },
  {
   "cell_type": "code",
   "execution_count": null,
   "metadata": {},
   "outputs": [],
   "source": [
    "img = cv2.imread(os.path.join('images', 'img1.jpg'), cv2.IMREAD_GRAYSCALE)\n",
    "out = histogram_equalization(img)\n",
    "image_list = []\n",
    "image_list.append([img, 'input_image'])\n",
    "image_list.append([out, 'histogram_equalized'])\n",
    "plotter(image_list, 1, 2, True, 20, 10, 'q3b-1')\n",
    "h2 = compute_histogram(out)\n",
    "show_histogram(h2, 'result_hist', 'q3b-2')"
   ]
  },
  {
   "cell_type": "markdown",
   "metadata": {},
   "source": [
    "# PART 3C"
   ]
  },
  {
   "cell_type": "markdown",
   "metadata": {},
   "source": [
    "Here is for your helper functions(optional)"
   ]
  },
  {
   "cell_type": "code",
   "execution_count": null,
   "metadata": {},
   "outputs": [],
   "source": []
  },
  {
   "cell_type": "markdown",
   "metadata": {},
   "source": [
    "in this cell you should implement histogram stretching. please don't use opencv methods"
   ]
  },
  {
   "cell_type": "code",
   "execution_count": null,
   "metadata": {},
   "outputs": [],
   "source": [
    "def histogram_stretching(image):\n",
    "    '''\n",
    "    Streches the histogram of the input image.\n",
    "    \n",
    "    Parameters:\n",
    "        image (numpy.ndarray): The input image.\n",
    "    \n",
    "    Returns:\n",
    "        numpy.ndarray: The result image that it's histogram be streched.   \n",
    "    '''\n",
    "    \n",
    "    h = compute_histogram(image)\n",
    "    out_image = image.copy()\n",
    "\n",
    "    ####### your code ########\n",
    "\n",
    "    \n",
    "    \n",
    "    ##########################\n",
    "    \n",
    "    return out_image"
   ]
  },
  {
   "cell_type": "markdown",
   "metadata": {},
   "source": [
    "Test your implementation (dont change this cell)"
   ]
  },
  {
   "cell_type": "code",
   "execution_count": null,
   "metadata": {},
   "outputs": [],
   "source": [
    "img = cv2.imread(os.path.join('images', 'img1.jpg'), cv2.IMREAD_GRAYSCALE)\n",
    "out = histogram_stretching(img)\n",
    "image_list = []\n",
    "image_list.append([img, 'input_image'])\n",
    "image_list.append([out, 'histogram_streched'])\n",
    "plotter(image_list, 1, 2, True, 20, 10, 'q3c-1')\n",
    "h2 = compute_histogram(out)\n",
    "show_histogram(h2, 'result_hist', 'q3c-2')"
   ]
  },
  {
   "cell_type": "markdown",
   "metadata": {},
   "source": [
    "# PART 3D"
   ]
  },
  {
   "cell_type": "markdown",
   "metadata": {},
   "source": [
    "Test your implementation (dont change this cell)"
   ]
  },
  {
   "cell_type": "code",
   "execution_count": null,
   "metadata": {},
   "outputs": [],
   "source": [
    "img2 = cv2.imread(os.path.join('images', 'img2.jpg'), cv2.IMREAD_GRAYSCALE)\n",
    "img3 = cv2.imread(os.path.join('images', 'img3.jpg'), cv2.IMREAD_GRAYSCALE)\n",
    "h2 = compute_histogram(img2)\n",
    "show_histogram(h2, 'img2_hist', 'q3d_img2_hist')\n",
    "h3 = compute_histogram(img3)\n",
    "show_histogram(h3, 'img3_hist', 'q3d_img3_hist')\n",
    "out2 = histogram_stretching(img2)\n",
    "out3 = histogram_stretching(img3)\n",
    "image_list = []\n",
    "image_list.append([img2, 'input_image2'])\n",
    "image_list.append([out2, 'histogram_streched_image2'])\n",
    "image_list.append([img3, 'input_image3'])\n",
    "image_list.append([out3, 'histogram_streched_image3'])\n",
    "plotter(image_list, 2, 2, True, 20, 10, 'q3d')\n",
    "h2_res = compute_histogram(out2)\n",
    "show_histogram(h2_res, 'img2_streched_hist', 'q3d_img2_streched_hist')\n",
    "h3_res = compute_histogram(out3)\n",
    "show_histogram(h3_res, 'img3_streched_hist', 'q3d_img3_streched_hist')"
   ]
  },
  {
   "cell_type": "markdown",
   "metadata": {},
   "source": [
    "# PART 3E"
   ]
  },
  {
   "cell_type": "markdown",
   "metadata": {},
   "source": [
    "Here is for your helper functions(optional)"
   ]
  },
  {
   "cell_type": "code",
   "execution_count": null,
   "metadata": {},
   "outputs": [],
   "source": []
  },
  {
   "cell_type": "markdown",
   "metadata": {},
   "source": [
    "use opencv clahe in this part"
   ]
  },
  {
   "cell_type": "code",
   "execution_count": null,
   "metadata": {},
   "outputs": [],
   "source": [
    "def clahe(image):\n",
    "    '''\n",
    "    Applys the OpenCV's CLAHE on the input image.\n",
    "    \n",
    "    Parameters:\n",
    "        image (numpy.ndarray): The input image.\n",
    "    \n",
    "    Returns:\n",
    "        numpy.ndarray: The result image.   \n",
    "    '''\n",
    "    \n",
    "    out_image = image.copy()\n",
    "    \n",
    "    ####### your code ########\n",
    "   \n",
    "    \n",
    "    \n",
    "    ##########################\n",
    "    \n",
    "    return out_image"
   ]
  },
  {
   "cell_type": "markdown",
   "metadata": {},
   "source": [
    "Test your implementation (dont change this cell)"
   ]
  },
  {
   "cell_type": "code",
   "execution_count": null,
   "metadata": {},
   "outputs": [],
   "source": [
    "image = cv2.imread(os.path.join('images', 'img4.jpg'), cv2.IMREAD_GRAYSCALE)\n",
    "clahed_img = clahe(image)\n",
    "equlized_img = histogram_equalization(image)\n",
    "image_list = []\n",
    "image_list.append([image, 'input_image'])\n",
    "image_list.append([clahed_img, 'CLAHE'])\n",
    "image_list.append([equlized_img, 'histogram_equalized'])\n",
    "plotter(image_list, 1, 3, True, 20, 10, 'q3e')"
   ]
  },
  {
   "cell_type": "markdown",
   "metadata": {},
   "source": [
    "for create proper files for sending in quera run this cell."
   ]
  },
  {
   "cell_type": "code",
   "execution_count": null,
   "metadata": {},
   "outputs": [],
   "source": [
    "!python notebook_converter.py"
   ]
  },
  {
   "cell_type": "markdown",
   "metadata": {},
   "source": [
    "End. Have a good time!!"
   ]
  }
 ],
 "metadata": {
  "kernelspec": {
   "display_name": "Python 3",
   "language": "python",
   "name": "python3"
  },
  "language_info": {
   "codemirror_mode": {
    "name": "ipython",
    "version": 3
   },
   "file_extension": ".py",
   "mimetype": "text/x-python",
   "name": "python",
   "nbconvert_exporter": "python",
   "pygments_lexer": "ipython3",
   "version": "3.7.6"
  }
 },
 "nbformat": 4,
 "nbformat_minor": 4
}
