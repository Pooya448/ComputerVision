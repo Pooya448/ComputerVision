{
  "nbformat": 4,
  "nbformat_minor": 0,
  "metadata": {
    "colab": {
      "name": "Programming Assignment 14 Report.ipynb",
      "provenance": [],
      "collapsed_sections": [],
      "toc_visible": true
    },
    "kernelspec": {
      "display_name": "Python 3",
      "language": "python",
      "name": "python3"
    },
    "language_info": {
      "codemirror_mode": {
        "name": "ipython",
        "version": 3
      },
      "file_extension": ".py",
      "mimetype": "text/x-python",
      "name": "python",
      "nbconvert_exporter": "python",
      "pygments_lexer": "ipython3",
      "version": "3.7.4"
    },
    "accelerator": "GPU"
  },
  "cells": [
    {
      "cell_type": "markdown",
      "metadata": {
        "id": "Qt2T4RWFx32q"
      },
      "source": [
        "**Pooya Kabiri - 96521434**"
      ]
    },
    {
      "cell_type": "markdown",
      "metadata": {
        "id": "Qye7RmB7yOwV"
      },
      "source": [
        "### Importing prerequisites\n",
        "\n"
      ]
    },
    {
      "cell_type": "code",
      "metadata": {
        "id": "YtQcwgeJyM5Y"
      },
      "source": [
        "import os\n",
        "import cv2\n",
        "import numpy as np\n",
        "import matplotlib.image as mpimg \n",
        "import matplotlib.pyplot as plt\n",
        "\n",
        "import tensorflow as tf\n",
        "from tensorflow import keras\n",
        "from tensorflow.keras import layers\n",
        "\n",
        "from tensorflow.keras.layers import *\n",
        "from tensorflow.keras.models import *\n",
        "from tensorflow.keras.optimizers import Adam\n",
        "from tensorflow.keras.applications.resnet50 import preprocess_input\n",
        "\n",
        "from tensorflow.keras.preprocessing.image import ImageDataGenerator"
      ],
      "execution_count": 23,
      "outputs": []
    },
    {
      "cell_type": "markdown",
      "metadata": {
        "id": "bh7wAyso5Owm"
      },
      "source": [
        "### Uploading the kaggle.json file"
      ]
    },
    {
      "cell_type": "code",
      "metadata": {
        "id": "6cvN2vaCQyvu"
      },
      "source": [
        "!rm -rf sample_data"
      ],
      "execution_count": 2,
      "outputs": []
    },
    {
      "cell_type": "code",
      "metadata": {
        "colab": {
          "resources": {
            "http://localhost:8080/nbextensions/google.colab/files.js": {
              "data": "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",
              "ok": true,
              "headers": [
                [
                  "content-type",
                  "application/javascript"
                ]
              ],
              "status": 200,
              "status_text": ""
            }
          },
          "base_uri": "https://localhost:8080/",
          "height": 90
        },
        "id": "Mke0rv8H5m-9",
        "outputId": "59efd53d-f2e9-4c7c-ffd3-79f9b3ffbfbd"
      },
      "source": [
        "from google.colab import files\n",
        "files.upload()  #this will prompt you to upload the kaggle.json"
      ],
      "execution_count": 3,
      "outputs": [
        {
          "output_type": "display_data",
          "data": {
            "text/html": [
              "\n",
              "     <input type=\"file\" id=\"files-47e376ac-d05c-4996-9be1-cd220593e3d9\" name=\"files[]\" multiple disabled\n",
              "        style=\"border:none\" />\n",
              "     <output id=\"result-47e376ac-d05c-4996-9be1-cd220593e3d9\">\n",
              "      Upload widget is only available when the cell has been executed in the\n",
              "      current browser session. Please rerun this cell to enable.\n",
              "      </output>\n",
              "      <script src=\"/nbextensions/google.colab/files.js\"></script> "
            ],
            "text/plain": [
              "<IPython.core.display.HTML object>"
            ]
          },
          "metadata": {
            "tags": []
          }
        },
        {
          "output_type": "stream",
          "text": [
            "Saving kaggle.json to kaggle.json\n"
          ],
          "name": "stdout"
        },
        {
          "output_type": "execute_result",
          "data": {
            "text/plain": [
              "{'kaggle.json': b'{\"username\":\"pooyakabiri\",\"key\":\"d6afbeb370ee08af651c1177181030ee\"}'}"
            ]
          },
          "metadata": {
            "tags": []
          },
          "execution_count": 3
        }
      ]
    },
    {
      "cell_type": "code",
      "metadata": {
        "colab": {
          "base_uri": "https://localhost:8080/"
        },
        "id": "CEQJHaNE5uMp",
        "outputId": "2fad524b-85a1-4304-deef-618868ae3b68"
      },
      "source": [
        "!pip install -q kaggle\n",
        "!mkdir -p ~/.kaggle\n",
        "!cp kaggle.json ~/.kaggle/\n",
        "!ls ~/.kaggle\n",
        "!chmod 600 /root/.kaggle/kaggle.json  # set permission"
      ],
      "execution_count": 4,
      "outputs": [
        {
          "output_type": "stream",
          "text": [
            "kaggle.json\n"
          ],
          "name": "stdout"
        }
      ]
    },
    {
      "cell_type": "markdown",
      "metadata": {
        "id": "zxiT_pse56G5"
      },
      "source": [
        "### Downloading dataset"
      ]
    },
    {
      "cell_type": "code",
      "metadata": {
        "id": "Two33b5v6SQx",
        "colab": {
          "base_uri": "https://localhost:8080/"
        },
        "outputId": "540ffd27-8199-4702-8540-77cfc0569b31"
      },
      "source": [
        "os.chdir('/content/')\n",
        "os.makedirs('stanford_car_dataset')\n",
        "!kaggle datasets download -d jutrera/stanford-car-dataset-by-classes-folder  -p /content/"
      ],
      "execution_count": 5,
      "outputs": [
        {
          "output_type": "stream",
          "text": [
            "Downloading stanford-car-dataset-by-classes-folder.zip to /content\n",
            "100% 1.82G/1.83G [00:15<00:00, 215MB/s]\n",
            "100% 1.83G/1.83G [00:15<00:00, 124MB/s]\n"
          ],
          "name": "stdout"
        }
      ]
    },
    {
      "cell_type": "markdown",
      "metadata": {
        "id": "Y8S79TKw7fS6"
      },
      "source": [
        "### Unzipping dataset"
      ]
    },
    {
      "cell_type": "code",
      "metadata": {
        "id": "hDi5l21J1VRl"
      },
      "source": [
        "!mv '/content/stanford-car-dataset-by-classes-folder.zip' '/content/stanford_car_dataset/'"
      ],
      "execution_count": 6,
      "outputs": []
    },
    {
      "cell_type": "code",
      "metadata": {
        "id": "f_paOZzR7XiG"
      },
      "source": [
        "os.chdir('/content/stanford_car_dataset')\n",
        "!unzip '/content/stanford_car_dataset/stanford-car-dataset-by-classes-folder.zip'"
      ],
      "execution_count": null,
      "outputs": []
    },
    {
      "cell_type": "markdown",
      "metadata": {
        "id": "a2sG4hJO_GlF"
      },
      "source": [
        "### Setting Hyperparameters\n"
      ]
    },
    {
      "cell_type": "code",
      "metadata": {
        "id": "W3VgtpJ7_M4m"
      },
      "source": [
        "IMG_WIDTH, IMG_HEIGHT, CHANNELS = 224, 224, 3\n",
        "BATCH_SIZE = 96\n",
        "n_classes = 196"
      ],
      "execution_count": 8,
      "outputs": []
    },
    {
      "cell_type": "code",
      "metadata": {
        "id": "cnnaYXgpxzco"
      },
      "source": [
        "BASE_PATH = '/content/stanford_car_dataset'\n",
        "\n",
        "# path to the train folder\n",
        "DATA_TRAIN_PATH = os.path.join(BASE_PATH, 'car_data/car_data/train')\n",
        "\n",
        "# path to the test folder \n",
        "DATA_TEST_PATH = os.path.join(BASE_PATH, 'car_data/car_data/test')"
      ],
      "execution_count": 39,
      "outputs": []
    },
    {
      "cell_type": "markdown",
      "metadata": {
        "id": "aRY_dawlDgTx"
      },
      "source": [
        "### Example of dataset"
      ]
    },
    {
      "cell_type": "code",
      "metadata": {
        "colab": {
          "base_uri": "https://localhost:8080/",
          "height": 192
        },
        "id": "BQ3BirAADeCW",
        "outputId": "7dd5af95-704f-4ab2-d618-c6536beab659"
      },
      "source": [
        "image = mpimg.imread(os.path.join(DATA_TRAIN_PATH, 'Volvo XC90 SUV 2007/00954.jpg'))\n",
        "plt.imshow(image)\n",
        "plt.axis('off')\n",
        "plt.show()"
      ],
      "execution_count": 60,
      "outputs": [
        {
          "output_type": "display_data",
          "data": {
            "image/png": "[encoded data removed]",
            "text/plain": [
              "<Figure size 432x288 with 1 Axes>"
            ]
          },
          "metadata": {
            "tags": [],
            "needs_background": "light"
          }
        }
      ]
    },
    {
      "cell_type": "markdown",
      "metadata": {
        "id": "Plbvnkx772a2"
      },
      "source": [
        "### Creating the generators"
      ]
    },
    {
      "cell_type": "markdown",
      "metadata": {
        "id": "3Y3EegDB2hRR"
      },
      "source": [
        "In this step, we will use the Keras `ImageDataGenerator` methods for loading and transform the images of the dataset. With these methods, we don't need to load the entire image dataset in memory."
      ]
    },
    {
      "cell_type": "code",
      "metadata": {
        "id": "dAdSMulC1Phz",
        "colab": {
          "base_uri": "https://localhost:8080/"
        },
        "outputId": "48a03141-56d7-46ac-8e46-cc4abf47d2d6"
      },
      "source": [
        "train_datagen = ImageDataGenerator(preprocessing_function=preprocess_input)\n",
        "\n",
        "train_datagen_aug = ImageDataGenerator(\n",
        "    rotation_range=40,\n",
        "    zoom_range=0.2,\n",
        "    width_shift_range=0.2,\n",
        "    height_shift_range=0.2,\n",
        "    shear_range=0.2,\n",
        "    horizontal_flip=True,\n",
        "    fill_mode=\"nearest\",\n",
        "    preprocessing_function = preprocess_input\n",
        "    )\n",
        "\n",
        "test_datagen = ImageDataGenerator(preprocessing_function=preprocess_input)\n",
        "\n",
        "train_generator  = train_datagen.flow_from_directory(DATA_TRAIN_PATH, target_size=(IMG_WIDTH, IMG_HEIGHT), batch_size=BATCH_SIZE, shuffle=True, class_mode='categorical')\n",
        "train_generator_aug  = train_datagen_aug.flow_from_directory(DATA_TRAIN_PATH, target_size=(IMG_WIDTH, IMG_HEIGHT), batch_size=BATCH_SIZE, shuffle=True, class_mode='categorical')\n",
        "test_generator  = test_datagen.flow_from_directory(DATA_TEST_PATH, target_size=(IMG_WIDTH, IMG_HEIGHT), batch_size=BATCH_SIZE, class_mode='categorical')"
      ],
      "execution_count": 41,
      "outputs": [
        {
          "output_type": "stream",
          "text": [
            "Found 8144 images belonging to 196 classes.\n",
            "Found 8144 images belonging to 196 classes.\n",
            "Found 8041 images belonging to 196 classes.\n"
          ],
          "name": "stdout"
        }
      ]
    },
    {
      "cell_type": "markdown",
      "metadata": {
        "id": "D7SyPwAW26GV"
      },
      "source": [
        "### ResNet50 without Data Augmentation"
      ]
    },
    {
      "cell_type": "code",
      "metadata": {
        "id": "QLHAONbrt0_V"
      },
      "source": [
        "from tensorflow.keras.applications import ResNet50\n",
        "from tensorflow.keras.applications import ResNet50V2"
      ],
      "execution_count": 43,
      "outputs": []
    },
    {
      "cell_type": "code",
      "metadata": {
        "id": "XWQoBn5n2-Sf"
      },
      "source": [
        "def build_model():\n",
        "\n",
        "    Backbone = ResNet50V2(\n",
        "    include_top=True, weights=None, pooling='avg', classes=n_classes, input_tensor=None,\n",
        "    input_shape=None)\n",
        "\n",
        "    return Backbone"
      ],
      "execution_count": 44,
      "outputs": []
    },
    {
      "cell_type": "code",
      "metadata": {
        "id": "vK-myxnb_6mI"
      },
      "source": [
        "model = build_model()\n",
        "loss = 'categorical_crossentropy'\n",
        "optimizer = 'Nadam'\n",
        "model.compile(loss=loss , optimizer= optimizer, metrics=['accuracy'])"
      ],
      "execution_count": 46,
      "outputs": []
    },
    {
      "cell_type": "code",
      "metadata": {
        "colab": {
          "base_uri": "https://localhost:8080/"
        },
        "id": "Mh_DMQIjybdi",
        "outputId": "c0795091-f65c-4172-f337-450e7950bf11"
      },
      "source": [
        "model.fit(train_generator, epochs=30, batch_size=BATCH_SIZE)"
      ],
      "execution_count": 48,
      "outputs": [
        {
          "output_type": "stream",
          "text": [
            "Epoch 1/30\n",
            "85/85 [==============================] - 84s 848ms/step - loss: 5.4693 - accuracy: 0.0075\n",
            "Epoch 2/30\n",
            "85/85 [==============================] - 72s 843ms/step - loss: 5.0998 - accuracy: 0.0135\n",
            "Epoch 3/30\n",
            "85/85 [==============================] - 72s 844ms/step - loss: 4.9166 - accuracy: 0.0250\n",
            "Epoch 4/30\n",
            "85/85 [==============================] - 72s 841ms/step - loss: 4.6526 - accuracy: 0.0486\n",
            "Epoch 5/30\n",
            "85/85 [==============================] - 72s 844ms/step - loss: 4.3524 - accuracy: 0.0769\n",
            "Epoch 6/30\n",
            "85/85 [==============================] - 72s 846ms/step - loss: 4.0884 - accuracy: 0.0880\n",
            "Epoch 7/30\n",
            "85/85 [==============================] - 72s 841ms/step - loss: 3.6862 - accuracy: 0.1432\n",
            "Epoch 8/30\n",
            "85/85 [==============================] - 72s 839ms/step - loss: 3.2513 - accuracy: 0.2116\n",
            "Epoch 9/30\n",
            "85/85 [==============================] - 72s 844ms/step - loss: 2.8398 - accuracy: 0.2857\n",
            "Epoch 10/30\n",
            "85/85 [==============================] - 73s 855ms/step - loss: 2.3131 - accuracy: 0.3898\n",
            "Epoch 11/30\n",
            "85/85 [==============================] - 72s 850ms/step - loss: 1.7007 - accuracy: 0.5248\n",
            "Epoch 12/30\n",
            "85/85 [==============================] - 72s 845ms/step - loss: 1.1940 - accuracy: 0.6732\n",
            "Epoch 13/30\n",
            "85/85 [==============================] - 73s 859ms/step - loss: 0.7311 - accuracy: 0.8068\n",
            "Epoch 14/30\n",
            "85/85 [==============================] - 75s 883ms/step - loss: 0.3945 - accuracy: 0.9098\n",
            "Epoch 15/30\n",
            "85/85 [==============================] - 77s 904ms/step - loss: 0.1826 - accuracy: 0.9698\n",
            "Epoch 16/30\n",
            "85/85 [==============================] - 77s 899ms/step - loss: 0.0988 - accuracy: 0.9859\n",
            "Epoch 17/30\n",
            "85/85 [==============================] - 76s 894ms/step - loss: 0.0410 - accuracy: 0.9960\n",
            "Epoch 18/30\n",
            "85/85 [==============================] - 77s 899ms/step - loss: 0.0191 - accuracy: 0.9983\n",
            "Epoch 19/30\n",
            "85/85 [==============================] - 78s 909ms/step - loss: 0.0248 - accuracy: 0.9971\n",
            "Epoch 20/30\n",
            "85/85 [==============================] - 78s 920ms/step - loss: 0.0124 - accuracy: 0.9986\n",
            "Epoch 21/30\n",
            "85/85 [==============================] - 76s 893ms/step - loss: 0.0097 - accuracy: 0.9987\n",
            "Epoch 22/30\n",
            "85/85 [==============================] - 76s 895ms/step - loss: 0.0076 - accuracy: 0.9988\n",
            "Epoch 23/30\n",
            "85/85 [==============================] - 77s 910ms/step - loss: 0.0074 - accuracy: 0.9983\n",
            "Epoch 24/30\n",
            "85/85 [==============================] - 78s 910ms/step - loss: 0.0092 - accuracy: 0.9982\n",
            "Epoch 25/30\n",
            "85/85 [==============================] - 78s 915ms/step - loss: 0.0102 - accuracy: 0.9981\n",
            "Epoch 26/30\n",
            "85/85 [==============================] - 79s 922ms/step - loss: 0.0085 - accuracy: 0.9980\n",
            "Epoch 27/30\n",
            "85/85 [==============================] - 79s 922ms/step - loss: 0.0059 - accuracy: 0.9981\n",
            "Epoch 28/30\n",
            "85/85 [==============================] - 78s 922ms/step - loss: 0.0046 - accuracy: 0.9990\n",
            "Epoch 29/30\n",
            "85/85 [==============================] - 78s 917ms/step - loss: 0.0071 - accuracy: 0.9966\n",
            "Epoch 30/30\n",
            "85/85 [==============================] - 78s 915ms/step - loss: 0.0042 - accuracy: 0.9988\n"
          ],
          "name": "stdout"
        },
        {
          "output_type": "execute_result",
          "data": {
            "text/plain": [
              "<tensorflow.python.keras.callbacks.History at 0x7fecdf5bc240>"
            ]
          },
          "metadata": {
            "tags": []
          },
          "execution_count": 48
        }
      ]
    },
    {
      "cell_type": "code",
      "metadata": {
        "id": "88mh9BfkB04n",
        "colab": {
          "base_uri": "https://localhost:8080/"
        },
        "outputId": "f69363d4-78ae-4930-f8bd-413c240d164a"
      },
      "source": [
        "model.evaluate(test_generator, batch_size=BATCH_SIZE)"
      ],
      "execution_count": 49,
      "outputs": [
        {
          "output_type": "stream",
          "text": [
            "84/84 [==============================] - 71s 830ms/step - loss: 4.2997 - accuracy: 0.2710\n"
          ],
          "name": "stdout"
        },
        {
          "output_type": "execute_result",
          "data": {
            "text/plain": [
              "[4.299706935882568, 0.2709861993789673]"
            ]
          },
          "metadata": {
            "tags": []
          },
          "execution_count": 49
        }
      ]
    },
    {
      "cell_type": "markdown",
      "metadata": {
        "id": "qsn0E8xBkATe"
      },
      "source": [
        "**As seen,** the model overfits the data extremeley, because the model has a lot more capacity and complexity in contrast to the data."
      ]
    },
    {
      "cell_type": "markdown",
      "metadata": {
        "id": "yQKaPditgleM"
      },
      "source": [
        "### ResNet50 with Data Augmentation"
      ]
    },
    {
      "cell_type": "code",
      "metadata": {
        "id": "VNlhcy6egttw"
      },
      "source": [
        "model = build_model()\n",
        "loss = 'categorical_crossentropy'\n",
        "optimizer = 'Nadam'\n",
        "model.compile(loss=loss , optimizer= optimizer, metrics=['accuracy'])"
      ],
      "execution_count": 52,
      "outputs": []
    },
    {
      "cell_type": "code",
      "metadata": {
        "colab": {
          "base_uri": "https://localhost:8080/"
        },
        "id": "615Yk-W9E9BA",
        "outputId": "f283c911-4c44-47cd-fd6d-2b2e8e2aa740"
      },
      "source": [
        "model.fit(train_generator_aug, epochs=50, batch_size=BATCH_SIZE)"
      ],
      "execution_count": 53,
      "outputs": [
        {
          "output_type": "stream",
          "text": [
            "Epoch 1/50\n",
            "85/85 [==============================] - 162s 2s/step - loss: 5.4793 - accuracy: 0.0089\n",
            "Epoch 2/50\n",
            "85/85 [==============================] - 149s 2s/step - loss: 5.1300 - accuracy: 0.0167\n",
            "Epoch 3/50\n",
            "85/85 [==============================] - 147s 2s/step - loss: 4.9948 - accuracy: 0.0253\n",
            "Epoch 4/50\n",
            "85/85 [==============================] - 148s 2s/step - loss: 4.8958 - accuracy: 0.0347\n",
            "Epoch 5/50\n",
            "85/85 [==============================] - 145s 2s/step - loss: 4.7394 - accuracy: 0.0435\n",
            "Epoch 6/50\n",
            "85/85 [==============================] - 146s 2s/step - loss: 4.6122 - accuracy: 0.0581\n",
            "Epoch 7/50\n",
            "85/85 [==============================] - 145s 2s/step - loss: 4.4747 - accuracy: 0.0645\n",
            "Epoch 8/50\n",
            "85/85 [==============================] - 145s 2s/step - loss: 4.3337 - accuracy: 0.0765\n",
            "Epoch 9/50\n",
            "85/85 [==============================] - 147s 2s/step - loss: 4.2223 - accuracy: 0.0901\n",
            "Epoch 10/50\n",
            "85/85 [==============================] - 148s 2s/step - loss: 4.0963 - accuracy: 0.1069\n",
            "Epoch 11/50\n",
            "85/85 [==============================] - 149s 2s/step - loss: 3.9482 - accuracy: 0.1133\n",
            "Epoch 12/50\n",
            "85/85 [==============================] - 151s 2s/step - loss: 3.8044 - accuracy: 0.1365\n",
            "Epoch 13/50\n",
            "85/85 [==============================] - 149s 2s/step - loss: 3.6480 - accuracy: 0.1639\n",
            "Epoch 14/50\n",
            "85/85 [==============================] - 146s 2s/step - loss: 3.4675 - accuracy: 0.1888\n",
            "Epoch 15/50\n",
            "85/85 [==============================] - 148s 2s/step - loss: 3.2871 - accuracy: 0.2208\n",
            "Epoch 16/50\n",
            "85/85 [==============================] - 150s 2s/step - loss: 3.1635 - accuracy: 0.2293\n",
            "Epoch 17/50\n",
            "85/85 [==============================] - 144s 2s/step - loss: 2.9727 - accuracy: 0.2688\n",
            "Epoch 18/50\n",
            "85/85 [==============================] - 147s 2s/step - loss: 2.7763 - accuracy: 0.3098\n",
            "Epoch 19/50\n",
            "85/85 [==============================] - 151s 2s/step - loss: 2.5963 - accuracy: 0.3460\n",
            "Epoch 20/50\n",
            "85/85 [==============================] - 157s 2s/step - loss: 2.4050 - accuracy: 0.3777\n",
            "Epoch 21/50\n",
            "85/85 [==============================] - 155s 2s/step - loss: 2.1778 - accuracy: 0.4282\n",
            "Epoch 22/50\n",
            "85/85 [==============================] - 145s 2s/step - loss: 2.0484 - accuracy: 0.4512\n",
            "Epoch 23/50\n",
            "85/85 [==============================] - 141s 2s/step - loss: 1.8928 - accuracy: 0.4903\n",
            "Epoch 24/50\n",
            "85/85 [==============================] - 140s 2s/step - loss: 1.7165 - accuracy: 0.5205\n",
            "Epoch 25/50\n",
            "85/85 [==============================] - 140s 2s/step - loss: 1.5326 - accuracy: 0.5717\n",
            "Epoch 26/50\n",
            "85/85 [==============================] - 139s 2s/step - loss: 1.4204 - accuracy: 0.6004\n",
            "Epoch 27/50\n",
            "85/85 [==============================] - 139s 2s/step - loss: 1.2980 - accuracy: 0.6331\n",
            "Epoch 28/50\n",
            "85/85 [==============================] - 140s 2s/step - loss: 1.1554 - accuracy: 0.6751\n",
            "Epoch 29/50\n",
            "85/85 [==============================] - 140s 2s/step - loss: 1.0837 - accuracy: 0.6818\n",
            "Epoch 30/50\n",
            "85/85 [==============================] - 139s 2s/step - loss: 1.0088 - accuracy: 0.7125\n",
            "Epoch 31/50\n",
            "85/85 [==============================] - 144s 2s/step - loss: 0.8818 - accuracy: 0.7523\n",
            "Epoch 32/50\n",
            "85/85 [==============================] - 150s 2s/step - loss: 0.8108 - accuracy: 0.7635\n",
            "Epoch 33/50\n",
            "85/85 [==============================] - 156s 2s/step - loss: 0.7427 - accuracy: 0.7779\n",
            "Epoch 34/50\n",
            "85/85 [==============================] - 158s 2s/step - loss: 0.6988 - accuracy: 0.7999\n",
            "Epoch 35/50\n",
            "85/85 [==============================] - 161s 2s/step - loss: 0.6105 - accuracy: 0.8246\n",
            "Epoch 36/50\n",
            "85/85 [==============================] - 161s 2s/step - loss: 0.5896 - accuracy: 0.8282\n",
            "Epoch 37/50\n",
            "85/85 [==============================] - 163s 2s/step - loss: 0.5439 - accuracy: 0.8410\n",
            "Epoch 38/50\n",
            "85/85 [==============================] - 157s 2s/step - loss: 0.4680 - accuracy: 0.8602\n",
            "Epoch 39/50\n",
            "85/85 [==============================] - 149s 2s/step - loss: 0.4970 - accuracy: 0.8503\n",
            "Epoch 40/50\n",
            "85/85 [==============================] - 141s 2s/step - loss: 0.4143 - accuracy: 0.8798\n",
            "Epoch 41/50\n",
            "85/85 [==============================] - 141s 2s/step - loss: 0.4155 - accuracy: 0.8756\n",
            "Epoch 42/50\n",
            "85/85 [==============================] - 142s 2s/step - loss: 0.3934 - accuracy: 0.8837\n",
            "Epoch 43/50\n",
            "85/85 [==============================] - 144s 2s/step - loss: 0.3261 - accuracy: 0.9079\n",
            "Epoch 44/50\n",
            "85/85 [==============================] - 142s 2s/step - loss: 0.3300 - accuracy: 0.9011\n",
            "Epoch 45/50\n",
            "85/85 [==============================] - 141s 2s/step - loss: 0.3089 - accuracy: 0.9072\n",
            "Epoch 46/50\n",
            "85/85 [==============================] - 141s 2s/step - loss: 0.2986 - accuracy: 0.9161\n",
            "Epoch 47/50\n",
            "85/85 [==============================] - 140s 2s/step - loss: 0.3067 - accuracy: 0.9066\n",
            "Epoch 48/50\n",
            "85/85 [==============================] - 140s 2s/step - loss: 0.2741 - accuracy: 0.9182\n",
            "Epoch 49/50\n",
            "85/85 [==============================] - 140s 2s/step - loss: 0.2518 - accuracy: 0.9239\n",
            "Epoch 50/50\n",
            "85/85 [==============================] - 146s 2s/step - loss: 0.2701 - accuracy: 0.9193\n"
          ],
          "name": "stdout"
        },
        {
          "output_type": "execute_result",
          "data": {
            "text/plain": [
              "<tensorflow.python.keras.callbacks.History at 0x7fecda1cd438>"
            ]
          },
          "metadata": {
            "tags": []
          },
          "execution_count": 53
        }
      ]
    },
    {
      "cell_type": "code",
      "metadata": {
        "id": "tVvhahFYCJIC",
        "colab": {
          "base_uri": "https://localhost:8080/"
        },
        "outputId": "6a88c907-391f-4ed5-bf93-65da6e7e79f1"
      },
      "source": [
        "model.evaluate(test_generator, batch_size=BATCH_SIZE)"
      ],
      "execution_count": 54,
      "outputs": [
        {
          "output_type": "stream",
          "text": [
            "84/84 [==============================] - 68s 800ms/step - loss: 3.0274 - accuracy: 0.4679\n"
          ],
          "name": "stdout"
        },
        {
          "output_type": "execute_result",
          "data": {
            "text/plain": [
              "[3.027381420135498, 0.46785226464271545]"
            ]
          },
          "metadata": {
            "tags": []
          },
          "execution_count": 54
        }
      ]
    },
    {
      "cell_type": "markdown",
      "metadata": {
        "id": "BEhyUMAJkWL0"
      },
      "source": [
        "**As seen,** the model overfits the data again, but using data augmentation techniques help the model to reduce overfit and causes the model to have a better generalization over the data, so the performance of the model is significantly improved (about 18%)."
      ]
    },
    {
      "cell_type": "markdown",
      "metadata": {
        "id": "kmCLEt9J3cSf"
      },
      "source": [
        "### ResNet50 on ImageNet with Data Augmentation"
      ]
    },
    {
      "cell_type": "code",
      "metadata": {
        "id": "YDKw4tNM3R4p"
      },
      "source": [
        "def build_model_with_resnet50(freeze_wights=False):\n",
        "\n",
        "    Backbone = ResNet50(\n",
        "    include_top=False, weights='imagenet', pooling='avg')\n",
        "\n",
        "    if freeze_wights:\n",
        "        Backbone.trainable = False\n",
        "        for layer in Backbone.layers:\n",
        "            if \"BatchNormalization\" in layer.__class__.__name__:\n",
        "                layer.trainable = True\n",
        "            else:\n",
        "                layer.trainable = False\n",
        "    else:\n",
        "        Backbone.trainable = True\n",
        "\n",
        "    X = BatchNormalization()(Backbone.output)\n",
        "\n",
        "    X = Flatten(name=\"flatten\")(X)\n",
        "    \n",
        "    X = Dense(1024)(X)\n",
        "    X = Activation('relu')(X) \n",
        "\n",
        "    X = BatchNormalization()(X)\n",
        "\n",
        "    X = Dense(n_classes)(X)\n",
        "    X = Activation('softmax')(X)\n",
        "\n",
        "    model = Model(Backbone.input, X)\n",
        "\n",
        "    return model"
      ],
      "execution_count": 56,
      "outputs": []
    },
    {
      "cell_type": "markdown",
      "metadata": {
        "id": "3fbuOXV5lXhW"
      },
      "source": [
        "#### Fine-Tuning"
      ]
    },
    {
      "cell_type": "code",
      "metadata": {
        "id": "3AwZjfXMLtQw",
        "colab": {
          "base_uri": "https://localhost:8080/"
        },
        "outputId": "3dda88d4-69c6-4dd6-f253-4e6870845fc5"
      },
      "source": [
        "model = build_model_with_resnet50()\n",
        "loss = 'categorical_crossentropy'\n",
        "optimizer = Adam(lr=1e-4)\n",
        "model.compile(loss=loss , optimizer= optimizer, metrics=['accuracy'])"
      ],
      "execution_count": 57,
      "outputs": [
        {
          "output_type": "stream",
          "text": [
            "Downloading data from https://storage.googleapis.com/tensorflow/keras-applications/resnet/resnet50_weights_tf_dim_ordering_tf_kernels_notop.h5\n",
            "94773248/94765736 [==============================] - 1s 0us/step\n"
          ],
          "name": "stdout"
        }
      ]
    },
    {
      "cell_type": "code",
      "metadata": {
        "id": "PvUo-a5SLxHm",
        "colab": {
          "base_uri": "https://localhost:8080/"
        },
        "outputId": "5dbc448b-5ff0-4572-f234-b7ad5ce3f7ee"
      },
      "source": [
        "model.fit(train_generator_aug, epochs=15, batch_size=BATCH_SIZE)"
      ],
      "execution_count": 58,
      "outputs": [
        {
          "output_type": "stream",
          "text": [
            "Epoch 1/15\n",
            "85/85 [==============================] - 149s 2s/step - loss: 5.6177 - accuracy: 0.0251\n",
            "Epoch 2/15\n",
            "85/85 [==============================] - 146s 2s/step - loss: 3.3383 - accuracy: 0.2735\n",
            "Epoch 3/15\n",
            "85/85 [==============================] - 143s 2s/step - loss: 1.9013 - accuracy: 0.5727\n",
            "Epoch 4/15\n",
            "85/85 [==============================] - 141s 2s/step - loss: 1.1656 - accuracy: 0.7448\n",
            "Epoch 5/15\n",
            "85/85 [==============================] - 141s 2s/step - loss: 0.7599 - accuracy: 0.8426\n",
            "Epoch 6/15\n",
            "85/85 [==============================] - 144s 2s/step - loss: 0.4954 - accuracy: 0.9079\n",
            "Epoch 7/15\n",
            "85/85 [==============================] - 153s 2s/step - loss: 0.3467 - accuracy: 0.9384\n",
            "Epoch 8/15\n",
            "85/85 [==============================] - 150s 2s/step - loss: 0.2462 - accuracy: 0.9588\n",
            "Epoch 9/15\n",
            "85/85 [==============================] - 143s 2s/step - loss: 0.1708 - accuracy: 0.9745\n",
            "Epoch 10/15\n",
            "85/85 [==============================] - 152s 2s/step - loss: 0.1383 - accuracy: 0.9834\n",
            "Epoch 11/15\n",
            "85/85 [==============================] - 159s 2s/step - loss: 0.1191 - accuracy: 0.9829\n",
            "Epoch 12/15\n",
            "85/85 [==============================] - 147s 2s/step - loss: 0.1022 - accuracy: 0.9856\n",
            "Epoch 13/15\n",
            "85/85 [==============================] - 147s 2s/step - loss: 0.0875 - accuracy: 0.9891\n",
            "Epoch 14/15\n",
            "85/85 [==============================] - 157s 2s/step - loss: 0.0748 - accuracy: 0.9908\n",
            "Epoch 15/15\n",
            "85/85 [==============================] - 154s 2s/step - loss: 0.0693 - accuracy: 0.9916\n"
          ],
          "name": "stdout"
        },
        {
          "output_type": "execute_result",
          "data": {
            "text/plain": [
              "<tensorflow.python.keras.callbacks.History at 0x7fecd826cfd0>"
            ]
          },
          "metadata": {
            "tags": []
          },
          "execution_count": 58
        }
      ]
    },
    {
      "cell_type": "code",
      "metadata": {
        "id": "9B31OelHCX1W",
        "colab": {
          "base_uri": "https://localhost:8080/"
        },
        "outputId": "e965dfad-31cd-4c37-e4e7-60e32aaa5c3c"
      },
      "source": [
        "model.evaluate(test_generator, batch_size=BATCH_SIZE)"
      ],
      "execution_count": 59,
      "outputs": [
        {
          "output_type": "stream",
          "text": [
            "84/84 [==============================] - 69s 803ms/step - loss: 1.0913 - accuracy: 0.7278\n"
          ],
          "name": "stdout"
        },
        {
          "output_type": "execute_result",
          "data": {
            "text/plain": [
              "[1.0912830829620361, 0.7277701497077942]"
            ]
          },
          "metadata": {
            "tags": []
          },
          "execution_count": 59
        }
      ]
    },
    {
      "cell_type": "markdown",
      "metadata": {
        "id": "C-EtMpYGlfVJ"
      },
      "source": [
        "**The** results have improved in a noticable way, because of the transfer learning procedur on ResNet50 and using it's learned features on ImageNet and then fine tuning the network on out cars data."
      ]
    },
    {
      "cell_type": "markdown",
      "metadata": {
        "id": "MNVmJLYjlGT3"
      },
      "source": [
        "#### With frozen weights\n"
      ]
    },
    {
      "cell_type": "code",
      "metadata": {
        "id": "zYlD3IVs7buo"
      },
      "source": [
        "model = build_model_with_resnet50(freeze_wights=True)\n",
        "loss = 'categorical_crossentropy'\n",
        "optimizer = Adam(lr=1e-4)\n",
        "model.compile(loss=loss , optimizer= optimizer, metrics=['accuracy'])"
      ],
      "execution_count": 64,
      "outputs": []
    },
    {
      "cell_type": "code",
      "metadata": {
        "colab": {
          "base_uri": "https://localhost:8080/"
        },
        "id": "vv28fahE7bm1",
        "outputId": "41398b30-93b5-4bba-f03e-4a532a9ebd88"
      },
      "source": [
        "model.fit(train_generator_aug, epochs=50, batch_size=BATCH_SIZE)"
      ],
      "execution_count": 65,
      "outputs": [
        {
          "output_type": "stream",
          "text": [
            "Epoch 1/50\n",
            "85/85 [==============================] - 151s 2s/step - loss: 5.8435 - accuracy: 0.0137\n",
            "Epoch 2/50\n",
            "85/85 [==============================] - 149s 2s/step - loss: 4.7274 - accuracy: 0.0731\n",
            "Epoch 3/50\n",
            "85/85 [==============================] - 148s 2s/step - loss: 4.0587 - accuracy: 0.1548\n",
            "Epoch 4/50\n",
            "85/85 [==============================] - 150s 2s/step - loss: 3.5542 - accuracy: 0.2478\n",
            "Epoch 5/50\n",
            "85/85 [==============================] - 152s 2s/step - loss: 3.1616 - accuracy: 0.3105\n",
            "Epoch 6/50\n",
            "85/85 [==============================] - 154s 2s/step - loss: 2.8584 - accuracy: 0.3659\n",
            "Epoch 7/50\n",
            "85/85 [==============================] - 155s 2s/step - loss: 2.5308 - accuracy: 0.4294\n",
            "Epoch 8/50\n",
            "85/85 [==============================] - 157s 2s/step - loss: 2.3075 - accuracy: 0.4851\n",
            "Epoch 9/50\n",
            "85/85 [==============================] - 148s 2s/step - loss: 2.1299 - accuracy: 0.5225\n",
            "Epoch 10/50\n",
            "85/85 [==============================] - 146s 2s/step - loss: 1.9845 - accuracy: 0.5617\n",
            "Epoch 11/50\n",
            "85/85 [==============================] - 153s 2s/step - loss: 1.8063 - accuracy: 0.6001\n",
            "Epoch 12/50\n",
            "85/85 [==============================] - 154s 2s/step - loss: 1.6377 - accuracy: 0.6420\n",
            "Epoch 13/50\n",
            "85/85 [==============================] - 156s 2s/step - loss: 1.5119 - accuracy: 0.6591\n",
            "Epoch 14/50\n",
            "85/85 [==============================] - 152s 2s/step - loss: 1.3839 - accuracy: 0.6951\n",
            "Epoch 15/50\n",
            "85/85 [==============================] - 152s 2s/step - loss: 1.2737 - accuracy: 0.7311\n",
            "Epoch 16/50\n",
            "85/85 [==============================] - 153s 2s/step - loss: 1.2078 - accuracy: 0.7363\n",
            "Epoch 17/50\n",
            "85/85 [==============================] - 154s 2s/step - loss: 1.0917 - accuracy: 0.7699\n",
            "Epoch 18/50\n",
            "85/85 [==============================] - 154s 2s/step - loss: 1.0216 - accuracy: 0.7828\n",
            "Epoch 19/50\n",
            "85/85 [==============================] - 156s 2s/step - loss: 0.9453 - accuracy: 0.7998\n",
            "Epoch 20/50\n",
            "85/85 [==============================] - 156s 2s/step - loss: 0.8851 - accuracy: 0.8237\n",
            "Epoch 21/50\n",
            "85/85 [==============================] - 155s 2s/step - loss: 0.8208 - accuracy: 0.8454\n",
            "Epoch 22/50\n",
            "85/85 [==============================] - 156s 2s/step - loss: 0.7607 - accuracy: 0.8610\n",
            "Epoch 23/50\n",
            "85/85 [==============================] - 154s 2s/step - loss: 0.7071 - accuracy: 0.8682\n",
            "Epoch 24/50\n",
            "85/85 [==============================] - 149s 2s/step - loss: 0.6676 - accuracy: 0.8837\n",
            "Epoch 25/50\n",
            "85/85 [==============================] - 142s 2s/step - loss: 0.6071 - accuracy: 0.8893\n",
            "Epoch 26/50\n",
            "85/85 [==============================] - 142s 2s/step - loss: 0.5583 - accuracy: 0.8989\n",
            "Epoch 27/50\n",
            "85/85 [==============================] - 148s 2s/step - loss: 0.5342 - accuracy: 0.9045\n",
            "Epoch 28/50\n",
            "85/85 [==============================] - 151s 2s/step - loss: 0.5127 - accuracy: 0.9090\n",
            "Epoch 29/50\n",
            "85/85 [==============================] - 153s 2s/step - loss: 0.4787 - accuracy: 0.9160\n",
            "Epoch 30/50\n",
            "85/85 [==============================] - 154s 2s/step - loss: 0.4415 - accuracy: 0.9258\n",
            "Epoch 31/50\n",
            "85/85 [==============================] - 155s 2s/step - loss: 0.4342 - accuracy: 0.9241\n",
            "Epoch 32/50\n",
            "85/85 [==============================] - 147s 2s/step - loss: 0.3957 - accuracy: 0.9379\n",
            "Epoch 33/50\n",
            "85/85 [==============================] - 140s 2s/step - loss: 0.3619 - accuracy: 0.9413\n",
            "Epoch 34/50\n",
            "85/85 [==============================] - 138s 2s/step - loss: 0.3273 - accuracy: 0.9504\n",
            "Epoch 35/50\n",
            "85/85 [==============================] - 137s 2s/step - loss: 0.3121 - accuracy: 0.9540\n",
            "Epoch 36/50\n",
            "85/85 [==============================] - 137s 2s/step - loss: 0.3133 - accuracy: 0.9587\n",
            "Epoch 37/50\n",
            "85/85 [==============================] - 137s 2s/step - loss: 0.2897 - accuracy: 0.9555\n",
            "Epoch 38/50\n",
            "85/85 [==============================] - 137s 2s/step - loss: 0.2744 - accuracy: 0.9591\n",
            "Epoch 39/50\n",
            "85/85 [==============================] - 137s 2s/step - loss: 0.2545 - accuracy: 0.9656\n",
            "Epoch 40/50\n",
            "85/85 [==============================] - 136s 2s/step - loss: 0.2424 - accuracy: 0.9639\n",
            "Epoch 41/50\n",
            "85/85 [==============================] - 137s 2s/step - loss: 0.2312 - accuracy: 0.9684\n",
            "Epoch 42/50\n",
            "85/85 [==============================] - 138s 2s/step - loss: 0.2227 - accuracy: 0.9693\n",
            "Epoch 43/50\n",
            "85/85 [==============================] - 139s 2s/step - loss: 0.2062 - accuracy: 0.9713\n",
            "Epoch 44/50\n",
            "85/85 [==============================] - 140s 2s/step - loss: 0.1962 - accuracy: 0.9713\n",
            "Epoch 45/50\n",
            "85/85 [==============================] - 139s 2s/step - loss: 0.1932 - accuracy: 0.9757\n",
            "Epoch 46/50\n",
            "85/85 [==============================] - 139s 2s/step - loss: 0.1797 - accuracy: 0.9750\n",
            "Epoch 47/50\n",
            "85/85 [==============================] - 140s 2s/step - loss: 0.1718 - accuracy: 0.9786\n",
            "Epoch 48/50\n",
            "85/85 [==============================] - 141s 2s/step - loss: 0.1590 - accuracy: 0.9800\n",
            "Epoch 49/50\n",
            "85/85 [==============================] - 141s 2s/step - loss: 0.1592 - accuracy: 0.9784\n",
            "Epoch 50/50\n",
            "85/85 [==============================] - 142s 2s/step - loss: 0.1556 - accuracy: 0.9804\n"
          ],
          "name": "stdout"
        },
        {
          "output_type": "execute_result",
          "data": {
            "text/plain": [
              "<tensorflow.python.keras.callbacks.History at 0x7fecd42d4240>"
            ]
          },
          "metadata": {
            "tags": []
          },
          "execution_count": 65
        }
      ]
    },
    {
      "cell_type": "code",
      "metadata": {
        "id": "BMbJW-O47bbI",
        "colab": {
          "base_uri": "https://localhost:8080/"
        },
        "outputId": "6611eb0d-7745-4f0e-c913-f2f6f621c02b"
      },
      "source": [
        "model.evaluate(test_generator, batch_size=BATCH_SIZE)"
      ],
      "execution_count": 66,
      "outputs": [
        {
          "output_type": "stream",
          "text": [
            "84/84 [==============================] - 69s 810ms/step - loss: 2.0442 - accuracy: 0.5098\n"
          ],
          "name": "stdout"
        },
        {
          "output_type": "execute_result",
          "data": {
            "text/plain": [
              "[2.044236421585083, 0.5097624659538269]"
            ]
          },
          "metadata": {
            "tags": []
          },
          "execution_count": 66
        }
      ]
    }
  ]
}