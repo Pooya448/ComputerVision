{
 "cells": [
  {
   "cell_type": "markdown",
   "metadata": {},
   "source": [
    "# HomeWork 8\n",
    "\n",
    "**DeadLine : 23:59 29 Aban 1399**\n",
    "\n",
    "**Total points : 100 pts**"
   ]
  },
  {
   "cell_type": "markdown",
   "metadata": {},
   "source": [
    "Import some prerequisites."
   ]
  },
  {
   "cell_type": "code",
   "execution_count": null,
   "metadata": {},
   "outputs": [],
   "source": [
    "import cv2\n",
    "import numpy as np\n",
    "import matplotlib.pyplot as plt\n",
    "import os"
   ]
  },
  {
   "cell_type": "markdown",
   "metadata": {},
   "source": [
    "Run this cell for plotting."
   ]
  },
  {
   "cell_type": "code",
   "execution_count": null,
   "metadata": {},
   "outputs": [],
   "source": [
    "def plotter(img_list, r, w, gray, wr, hr, fig_name = None):\n",
    "    '''\n",
    "    Plots images' list with its' caption and saves result image if you want.\n",
    "\n",
    "    Parameters:\n",
    "        img_list (list): The list of tuples of image and its' caption.\n",
    "        r (int): The number of row(s).\n",
    "        w (int): The number of colunm(s).\n",
    "        gray (bool): The flag for plotting images in grayscale mode.\n",
    "        wr (int): The width of one figure.\n",
    "        hr (int): The height of one figure.\n",
    "        fig_name (str): The name of the image of the plot. if not set this parameter the plot doesn't save.\n",
    "    '''\n",
    "    \n",
    "    plt.rcParams['figure.figsize'] = (wr, hr)\n",
    "    for i in range(len(img_list)):\n",
    "        plt.subplot(r, w, i + 1)\n",
    "        if img_list[i][2] == 'img':\n",
    "            if gray:\n",
    "                plt.imshow(img_list[i][0], cmap = 'gray')\n",
    "            else:\n",
    "                plt.imshow(img_list[i][0])\n",
    "            plt.xticks([])\n",
    "            plt.yticks([])\n",
    "        elif img_list[i][2] == 'hist':\n",
    "            plt.bar(np.arange(len(img_list[i][0])), img_list[i][0], color = 'c')\n",
    "        else:\n",
    "            raise Exception(\"Only image or histogram. Use third parameter of tuples in img_list and set it to img or hist.\")\n",
    "        plt.title(img_list[i][1])\n",
    "    if fig_name is not None:\n",
    "        plt.savefig(fig_name + '.png')\n",
    "    plt.show()"
   ]
  },
  {
   "cell_type": "markdown",
   "metadata": {},
   "source": [
    "# PART 2"
   ]
  },
  {
   "cell_type": "markdown",
   "metadata": {},
   "source": [
    "Here is for your helper functions (optional)."
   ]
  },
  {
   "cell_type": "code",
   "execution_count": null,
   "metadata": {},
   "outputs": [],
   "source": []
  },
  {
   "cell_type": "markdown",
   "metadata": {},
   "source": [
    "Implement this function to create panorama image fron two input images."
   ]
  },
  {
   "cell_type": "code",
   "execution_count": null,
   "metadata": {
    "scrolled": true
   },
   "outputs": [],
   "source": [
    "def stitch(image1, image2):\n",
    "    '''\n",
    "    Creates panorama image of two inputs.\n",
    "    \n",
    "    Parameters:\n",
    "        image1 (numpy.ndarray): The first input image.\n",
    "        image2 (numpy.ndarray): The second input image.\n",
    "    \n",
    "    Returns:\n",
    "        numpy.ndarray: The result panorama image.\n",
    "    '''\n",
    "    \n",
    "    out_img = None\n",
    "    \n",
    "    #Write your code here\n",
    "\n",
    "    \n",
    "    return out_img"
   ]
  },
  {
   "cell_type": "markdown",
   "metadata": {},
   "source": [
    "Test your implementation (dont change this cell)"
   ]
  },
  {
   "cell_type": "code",
   "execution_count": null,
   "metadata": {
    "scrolled": true
   },
   "outputs": [],
   "source": [
    "image_list = []\n",
    "\n",
    "image1 = cv2.imread(os.path.join('images', '2a.png'))\n",
    "image1 = cv2.cvtColor(image1, cv2.COLOR_BGR2RGB)\n",
    "image_list.append([image1, 'img1', 'img'])\n",
    "\n",
    "image2 = cv2.imread(os.path.join('images', '2b.png'))\n",
    "image2 = cv2.cvtColor(image2, cv2.COLOR_BGR2RGB)\n",
    "image_list.append([image2, 'img2', 'img'])\n",
    "\n",
    "plotter(image_list, 1, 2, True, 20, 10, '2_1')\n",
    "\n",
    "image_list = []\n",
    "image_list.append([stitch(image1,image2), 'Result', 'img'])\n",
    "\n",
    "plotter(image_list, 1, 1, True, 20, 10, '2_2')"
   ]
  },
  {
   "cell_type": "markdown",
   "metadata": {},
   "source": [
    "# PART 3"
   ]
  },
  {
   "cell_type": "markdown",
   "metadata": {},
   "source": [
    "Here is for your helper functions (optional)."
   ]
  },
  {
   "cell_type": "code",
   "execution_count": null,
   "metadata": {},
   "outputs": [],
   "source": []
  },
  {
   "cell_type": "markdown",
   "metadata": {},
   "source": [
    "Implement this function to create result image with added mask."
   ]
  },
  {
   "cell_type": "code",
   "execution_count": null,
   "metadata": {},
   "outputs": [],
   "source": [
    "def put_mask(face, mask):\n",
    "    '''\n",
    "    Adds mask image on face image.\n",
    "    \n",
    "    Parameters:\n",
    "        face (numpy.ndarray): face image.\n",
    "        mask (numpy.ndarray): mask image.\n",
    "    \n",
    "    Returns:\n",
    "        numpy.ndarray: The result image.\n",
    "    '''\n",
    "    \n",
    "    result = face.copy()\n",
    "    \n",
    "    #Write your code here\n",
    "    \n",
    "    \n",
    "    return result"
   ]
  },
  {
   "cell_type": "markdown",
   "metadata": {},
   "source": [
    "Test your implementation (dont change this cell)"
   ]
  },
  {
   "cell_type": "code",
   "execution_count": null,
   "metadata": {},
   "outputs": [],
   "source": [
    "image_list = []\n",
    "\n",
    "face = cv2.imread(os.path.join('images', 'face.jpg'))\n",
    "face = cv2.cvtColor(face, cv2.COLOR_BGR2RGB)\n",
    "image_list.append([face, 'face', 'img'])\n",
    "\n",
    "mask = cv2.imread(os.path.join('images', 'mask.jpg'))\n",
    "mask = cv2.cvtColor(mask, cv2.COLOR_BGR2RGB)\n",
    "\n",
    "\n",
    "\n",
    "image_list.append([put_mask(face, mask), 'result', 'img'])\n",
    "\n",
    "plotter(image_list, 1, 2, True, 20, 10, '3')"
   ]
  },
  {
   "cell_type": "markdown",
   "metadata": {},
   "source": [
    "for create proper files for sending in quera run this cell."
   ]
  },
  {
   "cell_type": "code",
   "execution_count": null,
   "metadata": {},
   "outputs": [],
   "source": [
    "!python notebook_converter.py"
   ]
  },
  {
   "cell_type": "markdown",
   "metadata": {},
   "source": [
    "End!!!"
   ]
  }
 ],
 "metadata": {
  "kernelspec": {
   "display_name": "Python 3",
   "language": "python",
   "name": "python3"
  },
  "language_info": {
   "codemirror_mode": {
    "name": "ipython",
    "version": 3
   },
   "file_extension": ".py",
   "mimetype": "text/x-python",
   "name": "python",
   "nbconvert_exporter": "python",
   "pygments_lexer": "ipython3",
   "version": "3.7.6"
  }
 },
 "nbformat": 4,
 "nbformat_minor": 4
}
