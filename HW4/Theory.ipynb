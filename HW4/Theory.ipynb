{
 "cells": [
  {
   "cell_type": "code",
   "execution_count": 1,
   "metadata": {},
   "outputs": [],
   "source": [
    "import cv2\n",
    "import numpy as np\n",
    "import matplotlib.pyplot as plt\n",
    "import os\n",
    "\n"
   ]
  },
  {
   "cell_type": "code",
   "execution_count": 19,
   "metadata": {},
   "outputs": [
    {
     "data": {
      "image/png": "[encoded data removed]",
      "text/plain": [
       "<Figure size 432x288 with 1 Axes>"
      ]
     },
     "metadata": {
      "needs_background": "light"
     },
     "output_type": "display_data"
    }
   ],
   "source": [
    "x = np.zeros((2000, 2000), dtype=np.uint8)\n",
    "\n",
    "x[0::4, :] = 0\n",
    "x[1::4, :] = 0\n",
    "\n",
    "x[2::4, :] = 255\n",
    "x[3::4, :] = 255\n",
    "\n",
    "plt.gray()\n",
    "plt.imshow(x)\n",
    "plt.show()"
   ]
  },
  {
   "cell_type": "code",
   "execution_count": 35,
   "metadata": {},
   "outputs": [
    {
     "data": {
      "image/png": "[encoded data removed]",
      "text/plain": [
       "<Figure size 432x288 with 1 Axes>"
      ]
     },
     "metadata": {
      "needs_background": "light"
     },
     "output_type": "display_data"
    },
    {
     "data": {
      "image/png": "[encoded data removed]",
      "text/plain": [
       "<Figure size 432x288 with 1 Axes>"
      ]
     },
     "metadata": {
      "needs_background": "light"
     },
     "output_type": "display_data"
    }
   ],
   "source": [
    "dft = np.fft.fft2(x)\n",
    "dft_shift = np.fft.fftshift(dft)\n",
    "    \n",
    "phase_spectrum = np.angle(dft_shift)\n",
    "magnitude_spectrum = np.abs(dft_shift)\n",
    "\n",
    "plt.imshow(magnitude_spectrum)\n",
    "plt.show()\n",
    "plt.imshow(phase_spectrum)\n",
    "plt.show()"
   ]
  },
  {
   "cell_type": "code",
   "execution_count": 30,
   "metadata": {},
   "outputs": [
    {
     "name": "stdout",
     "output_type": "stream",
     "text": [
      "[[1 0]\n",
      " [0 1]]\n",
      "[[0 1]\n",
      " [1 0]]\n"
     ]
    }
   ],
   "source": [
    "a = np.array([1,0,0,1], dtype=np.uint8).reshape((2, 2))z\n",
    "b = np.array([0,1,1,0], dtype=np.uint8).reshape((2, 2))\n",
    "print(a)\n",
    "print(b)"
   ]
  },
  {
   "cell_type": "code",
   "execution_count": 34,
   "metadata": {},
   "outputs": [
    {
     "name": "stdout",
     "output_type": "stream",
     "text": [
      "[[2.+0.j 0.+0.j]\n",
      " [0.+0.j 2.+0.j]]\n",
      "[[ 2.+0.j  0.+0.j]\n",
      " [ 0.+0.j -2.+0.j]]\n",
      "[[ 6.+0.j  0.+0.j]\n",
      " [ 0.+0.j -2.+0.j]]\n",
      "[[ True  True]\n",
      " [ True  True]]\n"
     ]
    }
   ],
   "source": [
    "dft_a = np.fft.fft2(a)\n",
    "print(dft_a)\n",
    "\n",
    "dft_b = np.fft.fft2(b)\n",
    "print(dft_b)\n",
    "\n",
    "dft_sum = np.fft.fft2(a + b)\n",
    "print(dft_sum)\n",
    "\n",
    "print(dft_sum == dft_a + dft_b)"
   ]
  },
  {
   "cell_type": "code",
   "execution_count": null,
   "metadata": {},
   "outputs": [],
   "source": []
  },
  {
   "cell_type": "code",
   "execution_count": null,
   "metadata": {},
   "outputs": [],
   "source": []
  },
  {
   "cell_type": "code",
   "execution_count": null,
   "metadata": {},
   "outputs": [],
   "source": []
  }
 ],
 "metadata": {
  "kernelspec": {
   "display_name": "Python 3",
   "language": "python",
   "name": "python3"
  },
  "language_info": {
   "codemirror_mode": {
    "name": "ipython",
    "version": 3
   },
   "file_extension": ".py",
   "mimetype": "text/x-python",
   "name": "python",
   "nbconvert_exporter": "python",
   "pygments_lexer": "ipython3",
   "version": "3.7.6"
  }
 },
 "nbformat": 4,
 "nbformat_minor": 4
}
