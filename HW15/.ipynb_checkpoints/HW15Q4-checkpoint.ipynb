{
 "cells": [
  {
   "cell_type": "markdown",
   "metadata": {},
   "source": [
    "# HomeWork 15\n",
    "\n",
    "**DeadLine : 23:59 29 Day 1399**\n",
    "\n",
    "**Total points : 125pts**"
   ]
  },
  {
   "cell_type": "code",
   "execution_count": null,
   "metadata": {},
   "outputs": [],
   "source": [
    "import cv2\n",
    "import numpy as np\n",
    "import matplotlib.pyplot as plt\n",
    "import os\n",
    "from numpy import random"
   ]
  },
  {
   "cell_type": "markdown",
   "metadata": {},
   "source": [
    "# PART 4"
   ]
  },
  {
   "cell_type": "markdown",
   "metadata": {},
   "source": [
    "Here is for your helper functions(optional)"
   ]
  },
  {
   "cell_type": "code",
   "execution_count": null,
   "metadata": {},
   "outputs": [],
   "source": []
  },
  {
   "cell_type": "markdown",
   "metadata": {},
   "source": [
    "Implement template matching"
   ]
  },
  {
   "cell_type": "code",
   "execution_count": null,
   "metadata": {
    "scrolled": true
   },
   "outputs": [],
   "source": [
    "def read_number(plate, templates):\n",
    "    '''\n",
    "    Returns plate number as a string.\n",
    "    \n",
    "    Parameters:\n",
    "        plate (numpy.ndarray): input image\n",
    "        templates (List) : list of template images\n",
    "    \n",
    "    Returns:\n",
    "        string : plate number\n",
    "    '''\n",
    "    \n",
    "    output = ''\n",
    "    ###################\n",
    "    #your code\n",
    "    \n",
    "    \n",
    "    \n",
    "    \n",
    "    ###################\n",
    "    return output\n"
   ]
  },
  {
   "cell_type": "markdown",
   "metadata": {},
   "source": [
    "Test your implementation (dont change this cell)"
   ]
  },
  {
   "cell_type": "code",
   "execution_count": null,
   "metadata": {
    "scrolled": true
   },
   "outputs": [],
   "source": [
    "templates =[cv2.imread(os.path.join('Templates', name), cv2.IMREAD_GRAYSCALE) for name in os.listdir('Templates/')] \n",
    "plates = [cv2.imread(os.path.join('Plates', name), cv2.IMREAD_GRAYSCALE) for name in os.listdir('Plates/')] \n",
    "for plate in plates:\n",
    "    print(read_number(plate, templates))"
   ]
  }
 ],
 "metadata": {
  "kernelspec": {
   "display_name": "Python 3",
   "language": "python",
   "name": "python3"
  },
  "language_info": {
   "codemirror_mode": {
    "name": "ipython",
    "version": 3
   },
   "file_extension": ".py",
   "mimetype": "text/x-python",
   "name": "python",
   "nbconvert_exporter": "python",
   "pygments_lexer": "ipython3",
   "version": "3.7.6"
  }
 },
 "nbformat": 4,
 "nbformat_minor": 4
}
