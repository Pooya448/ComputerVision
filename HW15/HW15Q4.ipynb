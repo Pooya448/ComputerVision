{
 "cells": [
  {
   "cell_type": "markdown",
   "metadata": {},
   "source": [
    "# HomeWork 15\n",
    "\n",
    "**DeadLine : 23:59 29 Day 1399**\n",
    "\n",
    "**Total points : 125pts**"
   ]
  },
  {
   "cell_type": "code",
   "execution_count": 1,
   "metadata": {},
   "outputs": [],
   "source": [
    "import cv2\n",
    "import numpy as np\n",
    "import matplotlib.pyplot as plt\n",
    "import os\n",
    "from numpy import random"
   ]
  },
  {
   "cell_type": "markdown",
   "metadata": {},
   "source": [
    "# PART 4"
   ]
  },
  {
   "cell_type": "markdown",
   "metadata": {},
   "source": [
    "Here is for your helper functions(optional)"
   ]
  },
  {
   "cell_type": "code",
   "execution_count": null,
   "metadata": {},
   "outputs": [],
   "source": []
  },
  {
   "cell_type": "markdown",
   "metadata": {},
   "source": [
    "Implement template matching"
   ]
  },
  {
   "cell_type": "code",
   "execution_count": 61,
   "metadata": {
    "scrolled": true
   },
   "outputs": [],
   "source": [
    "def read_number(plate, templates):\n",
    "    '''\n",
    "    Returns plate number as a string.\n",
    "    \n",
    "    Parameters:\n",
    "        plate (numpy.ndarray): input image\n",
    "        templates (List) : list of template images\n",
    "    \n",
    "    Returns:\n",
    "        string : plate number\n",
    "    '''\n",
    "#     plt.imshow(plate, cmap='gray', vmin=0, vmax=255)\n",
    "    temps_bin = []\n",
    "#     plate_gray = cv2.cvtColor(plate, cv2.COLOR_BGR2GRAY)\n",
    "    \n",
    "    _, plate_binary = cv2.threshold(plate, 105, 255, cv2.THRESH_BINARY)\n",
    "     \n",
    "    plt.imshow(plate_binary, cmap='gray', vmin=0, vmax=255)\n",
    "    \n",
    "#     for template in templates:\n",
    "#         gray_temp = cv2.cvtColor(template, cv2.COLOR_BGR2GRAY)\n",
    "#         _, inv_temp = cv2.threshold(gray_temp,127,255,cv.THRESH_BINARY)\n",
    "#         temps_bin.append(inv_temp)\n",
    "    \n",
    "    \n",
    "    \n",
    "    \n",
    "    \n",
    "    \n",
    "    ###################\n",
    "    return \"output\"\n"
   ]
  },
  {
   "cell_type": "markdown",
   "metadata": {},
   "source": [
    "Test your implementation (dont change this cell)"
   ]
  },
  {
   "cell_type": "code",
   "execution_count": 63,
   "metadata": {
    "scrolled": true
   },
   "outputs": [
    {
     "data": {
      "text/plain": [
       "'output'"
      ]
     },
     "execution_count": 63,
     "metadata": {},
     "output_type": "execute_result"
    },
    {
     "data": {
      "image/png": "[encoded data removed]",
      "text/plain": [
       "<Figure size 432x288 with 1 Axes>"
      ]
     },
     "metadata": {
      "needs_background": "light"
     },
     "output_type": "display_data"
    }
   ],
   "source": [
    "templates =[cv2.imread(os.path.join('Templates', name), cv2.IMREAD_GRAYSCALE) for name in os.listdir('Templates/')] \n",
    "plates = [cv2.imread(os.path.join('Plates', name), cv2.IMREAD_GRAYSCALE) for name in os.listdir('Plates/')] \n",
    "\n",
    "# read_number(plates[0], templates)\n",
    "# read_number(plates[1], templates)\n",
    "\n",
    "read_number(plates[2], templates)\n",
    "\n",
    "# read_number(plates[3], templates)\n",
    "\n",
    "# read_number(plates[4], templates)\n",
    "\n",
    "# read_number(plates[5], templates)\n",
    "\n",
    "# read_number(plates[6], templates)\n",
    "\n",
    "# read_number(plates[7], templates)\n",
    "\n",
    "# read_number(plates[8], templates)\n",
    "\n",
    "\n",
    "\n",
    "\n",
    "\n",
    "\n",
    "# for plate in plates:\n",
    "# #     print(read_number(plate, templates))\n",
    "#     read_number(plate, templates)"
   ]
  },
  {
   "cell_type": "code",
   "execution_count": null,
   "metadata": {},
   "outputs": [],
   "source": []
  }
 ],
 "metadata": {
  "kernelspec": {
   "display_name": "Python 3",
   "language": "python",
   "name": "python3"
  },
  "language_info": {
   "codemirror_mode": {
    "name": "ipython",
    "version": 3
   },
   "file_extension": ".py",
   "mimetype": "text/x-python",
   "name": "python",
   "nbconvert_exporter": "python",
   "pygments_lexer": "ipython3",
   "version": "3.7.6"
  }
 },
 "nbformat": 4,
 "nbformat_minor": 4
}
