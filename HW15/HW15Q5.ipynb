{
 "cells": [
  {
   "cell_type": "markdown",
   "metadata": {},
   "source": [
    "# HomeWork 15\n",
    "\n",
    "**DeadLine : 23:59 29 Day 1399**\n",
    "\n",
    "**Total points : 125pts**"
   ]
  },
  {
   "cell_type": "code",
   "execution_count": null,
   "metadata": {},
   "outputs": [],
   "source": [
    "import cv2\n",
    "import numpy as np\n",
    "import matplotlib.pyplot as plt\n",
    "import os\n",
    "from numpy import random"
   ]
  },
  {
   "cell_type": "markdown",
   "metadata": {},
   "source": [
    "# PART 5"
   ]
  },
  {
   "cell_type": "markdown",
   "metadata": {},
   "source": [
    "Run this part on google colab\n",
    "\n",
    "Clone RetinaNet detector"
   ]
  },
  {
   "cell_type": "code",
   "execution_count": null,
   "metadata": {},
   "outputs": [],
   "source": [
    "!git clone https://github.com/fizyr/keras-retinanet"
   ]
  },
  {
   "cell_type": "code",
   "execution_count": null,
   "metadata": {},
   "outputs": [],
   "source": [
    "%cd keras-retinanet/"
   ]
  },
  {
   "cell_type": "code",
   "execution_count": null,
   "metadata": {},
   "outputs": [],
   "source": [
    "!pip install . --user"
   ]
  },
  {
   "cell_type": "code",
   "execution_count": null,
   "metadata": {},
   "outputs": [],
   "source": [
    "!python setup.py build_ext --inplace"
   ]
  },
  {
   "cell_type": "markdown",
   "metadata": {},
   "source": [
    "Download pretrained model "
   ]
  },
  {
   "cell_type": "code",
   "execution_count": null,
   "metadata": {},
   "outputs": [],
   "source": [
    "!wget https://github.com/fizyr/keras-retinanet/releases/download/0.5.1/resnet50_coco_best_v2.1.0.h5 -P snapshots/"
   ]
  },
  {
   "cell_type": "markdown",
   "metadata": {},
   "source": [
    "Download dataset"
   ]
  },
  {
   "cell_type": "code",
   "execution_count": null,
   "metadata": {},
   "outputs": [],
   "source": [
    "!git clone https://github.com/experiencor/kangaroo"
   ]
  },
  {
   "cell_type": "markdown",
   "metadata": {},
   "source": [
    "Create standard format for dataset"
   ]
  },
  {
   "cell_type": "code",
   "execution_count": null,
   "metadata": {},
   "outputs": [],
   "source": [
    "data_dir = 'kangaroo/'\n",
    "def create_dataset(path):\n",
    "    '''\n",
    "    Input : Dataset path\n",
    "    \n",
    "    In this method, you should create dataset in the format that the retinanet repo wants.\n",
    "    You should create train.txt and val.txt files.\n",
    "    For the training process, we need 80 percent of the data. \n",
    "    For the validation process, we need 20 percent of the data.\n",
    "    Create folders like JPEGImages and ImageSets and Annotations.\n",
    "    Put data in these folders.\n",
    "    '''\n",
    "    ################\n",
    "    #your code \n",
    "    \n",
    "    \n",
    "    \n",
    "    \n",
    "    #################\n",
    "    return"
   ]
  },
  {
   "cell_type": "markdown",
   "metadata": {},
   "source": [
    "Next step:\n",
    "\n",
    "Go to keras-retinanet/keras_retinanet/preprocessing/pascal_voc.py\n",
    "\n",
    "In voc_classes dictionary clear other classes and set voc_classes[kangaroo] : 0"
   ]
  },
  {
   "cell_type": "code",
   "execution_count": null,
   "metadata": {},
   "outputs": [],
   "source": [
    "create_dataset(data_dir)"
   ]
  },
  {
   "cell_type": "markdown",
   "metadata": {},
   "source": [
    "Train model with custom dataset\n",
    "\n",
    "Set epochs, batch-size, and steps for training\n",
    "\n",
    "The last parameter is dataset address, for example here address is keras-retinanet/dataset"
   ]
  },
  {
   "cell_type": "code",
   "execution_count": null,
   "metadata": {},
   "outputs": [],
   "source": [
    "!python keras_retinanet/bin/train.py --epochs 10 --steps 100   pascal dataset "
   ]
  },
  {
   "cell_type": "markdown",
   "metadata": {},
   "source": [
    "Convert training model to the inference model\n",
    "\n",
    "For example, in this code, we select snapshots/resnet50_pascal_01.h5 as the training model\n",
    "\n",
    "You should select your training model\n",
    "\n",
    "Don't change snapshots/final_model.h5"
   ]
  },
  {
   "cell_type": "code",
   "execution_count": null,
   "metadata": {},
   "outputs": [],
   "source": [
    "#Ffor example in this code snapshots/resnet50_pascal_01.h5 is selected as the training model \n",
    "#and final_model.h5 is the inference model\n",
    "!python keras_retinanet/bin/convert_model.py snapshots/resnet50_pascal_01.h5 snapshots/final_model.h5"
   ]
  },
  {
   "cell_type": "markdown",
   "metadata": {},
   "source": [
    "Import libraries \n",
    "\n",
    "Load inference model"
   ]
  },
  {
   "cell_type": "code",
   "execution_count": null,
   "metadata": {},
   "outputs": [],
   "source": [
    "%matplotlib inline\n",
    "\n",
    "# automatically reload modules when they have changed\n",
    "%load_ext autoreload\n",
    "%autoreload 2\n",
    "\n",
    "# import keras\n",
    "from tensorflow import keras\n",
    "\n",
    "# import keras_retinanet\n",
    "from keras_retinanet import models\n",
    "from keras_retinanet.utils.image import read_image_bgr, preprocess_image, resize_image\n",
    "from keras_retinanet.utils.visualization import draw_box, draw_caption\n",
    "from keras_retinanet.utils.colors import label_color\n",
    "from keras_retinanet.utils.gpu import setup_gpu\n",
    "\n",
    "# import miscellaneous modules\n",
    "import matplotlib.pyplot as plt\n",
    "import cv2\n",
    "import os\n",
    "import numpy as np\n",
    "import time\n",
    "\n",
    "# use this to change which GPU to use\n",
    "gpu = '0'\n",
    "\n",
    "# set the modified tf session as backend in keras\n",
    "setup_gpu(gpu)\n",
    "\n",
    "model_path = os.path.join('.', 'snapshots', 'final_model.h5')\n",
    "# load retinanet model\n",
    "model = models.load_model(model_path, backbone_name='resnet50')\n",
    "# load label to names mapping for visualization purposes\n",
    "labels_to_names = {0: 'kangaroo'}"
   ]
  },
  {
   "cell_type": "markdown",
   "metadata": {},
   "source": [
    "In this method, you should found kangaroos in the input image.\n",
    "\n",
    "Candidates with a score of more than 0.5 are kangaroos\n",
    "\n",
    "Draw bounding-box around detected kangaroos "
   ]
  },
  {
   "cell_type": "code",
   "execution_count": null,
   "metadata": {},
   "outputs": [],
   "source": [
    "def detect(image, inf_model = model):\n",
    "    '''\n",
    "    Draws bounding-box on image and returns final image.\n",
    "    \n",
    "    Parameters:\n",
    "        model : Retinanet model\n",
    "        image : Input image\n",
    "    \n",
    "    Returns:\n",
    "        output : Final image\n",
    "    '''\n",
    "    output = image.copy()\n",
    "    #####################\n",
    "    #your code\n",
    "    \n",
    "    \n",
    "    \n",
    "    #####################\n",
    "    \n",
    "    return output\n",
    "    "
   ]
  },
  {
   "cell_type": "code",
   "execution_count": null,
   "metadata": {},
   "outputs": [],
   "source": [
    "def show(val_imgs,inf_model = model):\n",
    "    \n",
    "    for img in val_imgs:\n",
    "        out = detect(img,inf_model)\n",
    "        plt.figure(figsize=(15, 15))\n",
    "        plt.axis('off')\n",
    "        plt.imshow(out)"
   ]
  },
  {
   "cell_type": "markdown",
   "metadata": {},
   "source": [
    "In the next cell put all validation images in a list called 'val_imgs'."
   ]
  },
  {
   "cell_type": "code",
   "execution_count": null,
   "metadata": {},
   "outputs": [],
   "source": [
    "val_imgs = []\n",
    "#########\n",
    "#your code\n",
    "\n",
    "\n",
    "#########\n",
    "show(val_imgs,model)"
   ]
  }
 ],
 "metadata": {
  "kernelspec": {
   "display_name": "Python 3",
   "language": "python",
   "name": "python3"
  },
  "language_info": {
   "codemirror_mode": {
    "name": "ipython",
    "version": 3
   },
   "file_extension": ".py",
   "mimetype": "text/x-python",
   "name": "python",
   "nbconvert_exporter": "python",
   "pygments_lexer": "ipython3",
   "version": "3.7.4"
  }
 },
 "nbformat": 4,
 "nbformat_minor": 4
}
