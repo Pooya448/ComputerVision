{
 "cells": [
  {
   "cell_type": "markdown",
   "metadata": {},
   "source": [
    "# HomeWork 11\n",
    "\n",
    "**DeadLine : 23:59 20 Azar 1399**\n",
    "\n",
    "**Total points : 100pts**\n"
   ]
  },
  {
   "cell_type": "markdown",
   "metadata": {},
   "source": [
    "Import some prerequisites:"
   ]
  },
  {
   "cell_type": "code",
   "execution_count": 6,
   "metadata": {
    "scrolled": true
   },
   "outputs": [],
   "source": [
    "import cv2\n",
    "import numpy as np\n",
    "import matplotlib.pyplot as plt\n",
    "import os"
   ]
  },
  {
   "cell_type": "markdown",
   "metadata": {},
   "source": [
    "Run this cell for plotting."
   ]
  },
  {
   "cell_type": "code",
   "execution_count": 7,
   "metadata": {},
   "outputs": [],
   "source": [
    "def plotter(img_list, r, w, gray, wr, hr, fig_name = None):\n",
    "    '''\n",
    "    Plots images' list with its' caption and saves result image if you want.\n",
    "\n",
    "    Parameters:\n",
    "        img_list (list): The list of tuples of image and its' caption.\n",
    "        r (int): The number of row(s).\n",
    "        w (int): The number of colunm(s).\n",
    "        gray (bool): The flag for plotting images in grayscale mode.\n",
    "        wr (int): The width of one figure.\n",
    "        hr (int): The height of one figure.\n",
    "        fig_name (str): The name of the image of the plot. if not set this parameter the plot doesn't save.\n",
    "    '''\n",
    "    \n",
    "    plt.rcParams['figure.figsize'] = (wr, hr)\n",
    "    for i in range(len(img_list)):\n",
    "        plt.subplot(r, w, i + 1)\n",
    "        if img_list[i][2] == 'img':\n",
    "            if gray:\n",
    "                plt.imshow(img_list[i][0], cmap = 'gray')\n",
    "            else:\n",
    "                plt.imshow(img_list[i][0])\n",
    "            plt.xticks([])\n",
    "            plt.yticks([])\n",
    "        elif img_list[i][2] == 'hist':\n",
    "            plt.bar(np.arange(len(img_list[i][0])), img_list[i][0], color = 'c')\n",
    "        else:\n",
    "            raise Exception(\"Only image or histogram. Use third parameter of tuples in img_list and set it to img or hist.\")\n",
    "        plt.title(img_list[i][1])\n",
    "    if fig_name is not None:\n",
    "        plt.savefig(fig_name + '.png')\n",
    "    plt.show()"
   ]
  },
  {
   "cell_type": "markdown",
   "metadata": {},
   "source": [
    "# PART 3\n",
    "\n",
    "**Point : 30 pts**"
   ]
  },
  {
   "cell_type": "markdown",
   "metadata": {},
   "source": [
    "Here is for your helper functions(optional)."
   ]
  },
  {
   "cell_type": "code",
   "execution_count": 22,
   "metadata": {},
   "outputs": [],
   "source": [
    "def compute_k(image, element):\n",
    "    thres = image.copy()\n",
    "    k = 1\n",
    "    while cv2.erode(image, element, iterations = k).any():\n",
    "        k += 1\n",
    "    return k"
   ]
  },
  {
   "cell_type": "markdown",
   "metadata": {},
   "source": [
    "Implement this function to get the input image and return the skeleton of the input image."
   ]
  },
  {
   "cell_type": "code",
   "execution_count": 43,
   "metadata": {},
   "outputs": [],
   "source": [
    "def get_skeleton(image):\n",
    "    \"\"\"\n",
    "    Finds the skeleton of the input image.\n",
    "    \n",
    "    Parameters:\n",
    "        image (numpy.ndarray): The input image.\n",
    "    \n",
    "    Returns:\n",
    "        numpy.ndarray: The skeleton image.  \n",
    "    \"\"\"\n",
    "    \n",
    "    print(image.shape)\n",
    "    \n",
    "    for i in range(image.shape[0]):\n",
    "        for j in range(image.shape[1]):\n",
    "            image[i, j] = 255;\n",
    "    \n",
    "#     im = cv2.rectangle(image,(0,0),(566,1182),(255,255,255), -1)\n",
    "    \n",
    "    im = cv2.rectangle(image,(140,100),(1000, 500),(0,0,0),-1)\n",
    "    \n",
    "    blur = cv2.GaussianBlur(im, (3, 3) ,0)\n",
    "    ret, binary = cv2.threshold(blur, 200, 255, cv2.THRESH_BINARY_INV)\n",
    "\n",
    "    element = np.array([\n",
    "        [0, 1, 0],\n",
    "        [1, 1, 1],\n",
    "        [0, 1, 0]\n",
    "    ], dtype = np.uint8)\n",
    "    \n",
    "    K = compute_k(binary, element)    \n",
    "    union = np.zeros_like(binary)\n",
    "    \n",
    "    for i in range(K):\n",
    "        \n",
    "        erosion = cv2.erode(binary, element, iterations = i)\n",
    "        opening = cv2.morphologyEx(erosion, cv2.MORPH_OPEN, element)\n",
    "        partial_result = cv2.subtract(erosion, opening)\n",
    "        union = cv2.add(union, partial_result)\n",
    "\n",
    "    return union"
   ]
  },
  {
   "cell_type": "markdown",
   "metadata": {},
   "source": [
    "Test your implementation (don't change this cell)."
   ]
  },
  {
   "cell_type": "code",
   "execution_count": 44,
   "metadata": {},
   "outputs": [
    {
     "name": "stdout",
     "output_type": "stream",
     "text": [
      "(567, 1183)\n"
     ]
    },
    {
     "data": {
      "image/png": "[encoded data removed]",
      "text/plain": [
       "<Figure size 720x720 with 2 Axes>"
      ]
     },
     "metadata": {},
     "output_type": "display_data"
    }
   ],
   "source": [
    "image_list = []\n",
    "\n",
    "image1 = cv2.imread(os.path.join('images', 'q3a.png'), cv2.IMREAD_GRAYSCALE)\n",
    "image_list.append([image1, 'image 1', 'img'])\n",
    "image_list.append([get_skeleton(image1), 'skeleton of image 1','img'])\n",
    "\n",
    "# image2 = cv2.imread(os.path.join('images', 'q3b.jpg'), cv2.IMREAD_GRAYSCALE)\n",
    "# image_list.append([image2, 'image 2', 'img'])\n",
    "# image_list.append([get_skeleton(image2), 'skeleton of image 2','img'])\n",
    "\n",
    "# image3 = cv2.imread(os.path.join('images', 'q3c.png'), cv2.IMREAD_GRAYSCALE)\n",
    "# image_list.append([image3, 'image 3', 'img'])\n",
    "# image_list.append([get_skeleton(image3), 'skeleton of image 3', 'img'])\n",
    "\n",
    "plotter(image_list, 3, 2, True, 10, 10, 'Q3')"
   ]
  },
  {
   "cell_type": "markdown",
   "metadata": {},
   "source": [
    "# PART 4\n",
    "\n",
    "**Point : 30 pts**"
   ]
  },
  {
   "cell_type": "markdown",
   "metadata": {},
   "source": [
    "Here is for your helper functions(optional)."
   ]
  },
  {
   "cell_type": "code",
   "execution_count": 6,
   "metadata": {},
   "outputs": [],
   "source": [
    "import numpy.ma as ma\n",
    "\n",
    "def make_slice(image, offset, i, j):\n",
    "    return image[i - offset : i + offset + 1, j - offset : j + offset + 1]\n",
    "\n",
    "def get_indices(shape, offset):\n",
    "    indices = []\n",
    "    for val in range(shape):\n",
    "        if val - offset >= 0 and val + offset + 1 <= shape:\n",
    "            indices.append(val)\n",
    "    return indices\n",
    "\n",
    "def crop_padding(image, offset):\n",
    "    return image[offset : image.shape[0] - offset, offset : image.shape[1] - offset].astype(np.uint8)\n",
    "\n",
    "def gray_morphology(image, element, method):\n",
    "    \n",
    "    offset = element.shape[0] // 2\n",
    "    \n",
    "    rows = get_indices(image.shape[0], offset)\n",
    "    cols = get_indices(image.shape[1], offset)\n",
    "    \n",
    "    result_image = np.zeros(image.shape[:2])\n",
    "    \n",
    "    for i in rows:\n",
    "        for j in cols:\n",
    "\n",
    "            image_slice = ma.masked_array(make_slice(image, offset, i, j), mask = np.logical_not(element))\n",
    "            \n",
    "            if method == 'ERODE':\n",
    "                result_image[i, j] = image_slice.min()\n",
    "            elif method == 'DILATE':\n",
    "                result_image[i, j] = image_slice.max()\n",
    "                \n",
    "    return result_image"
   ]
  },
  {
   "cell_type": "markdown",
   "metadata": {},
   "source": [
    "Please, set your structuring element here:"
   ]
  },
  {
   "cell_type": "code",
   "execution_count": 7,
   "metadata": {},
   "outputs": [],
   "source": [
    "structuring_element = np.ones((3, 3))"
   ]
  },
  {
   "cell_type": "markdown",
   "metadata": {},
   "source": [
    "Implement these functions for calculating dilation and erosion in RGB space."
   ]
  },
  {
   "cell_type": "code",
   "execution_count": 8,
   "metadata": {},
   "outputs": [],
   "source": [
    "def RGB_dilate(image, structuring_element):\n",
    "    '''\n",
    "    Applies dilation in RGB space.\n",
    "    \n",
    "    Parameters:\n",
    "        image (numpy.ndarray): The input image.\n",
    "        structuring_element (numpy.ndarray): The structuring element must be square.\n",
    "    \n",
    "    Returns:\n",
    "        dilated_image (numpy.ndarray): The dilated result image.   \n",
    "    '''\n",
    "    offset = structuring_element.shape[0] // 2\n",
    "    \n",
    "    padded = cv2.copyMakeBorder(image, offset, offset, offset, offset, cv2.BORDER_REFLECT)\n",
    "    \n",
    "    channels = cv2.split(padded)\n",
    "\n",
    "    result = []\n",
    "    for ch in channels:\n",
    "        result.append(gray_morphology(ch, structuring_element, 'DILATE'))\n",
    "    \n",
    "    dilated_image = crop_padding(cv2.merge(tuple(result)), offset)\n",
    "    return dilated_image"
   ]
  },
  {
   "cell_type": "code",
   "execution_count": 9,
   "metadata": {},
   "outputs": [],
   "source": [
    "def RGB_erode(image, structuring_element):\n",
    "    '''\n",
    "    Applies erosion in RGB space.\n",
    "    \n",
    "    Parameters:\n",
    "        image (numpy.ndarray): The input image.\n",
    "        structuring_element (numpy.ndarray): The structuring element must be square.\n",
    "    \n",
    "    Returns:\n",
    "        eroded_image (numpy.ndarray): The eroded result image.   \n",
    "    '''\n",
    "    offset = structuring_element.shape[0] // 2\n",
    "    \n",
    "    padded = cv2.copyMakeBorder(image, offset, offset, offset, offset, cv2.BORDER_REFLECT)\n",
    "    \n",
    "    channels = cv2.split(padded)\n",
    "\n",
    "    result = []\n",
    "    for ch in channels:\n",
    "        result.append(gray_morphology(ch, structuring_element, 'ERODE'))\n",
    "    \n",
    "    eroded_image = crop_padding(cv2.merge(tuple(result)), offset)\n",
    "    return eroded_image"
   ]
  },
  {
   "cell_type": "markdown",
   "metadata": {},
   "source": [
    "Test your implementation (don't change this cell)."
   ]
  },
  {
   "cell_type": "code",
   "execution_count": 10,
   "metadata": {},
   "outputs": [
    {
     "data": {
      "image/png": "[encoded data removed]",
      "text/plain": [
       "<Figure size 576x432 with 3 Axes>"
      ]
     },
     "metadata": {},
     "output_type": "display_data"
    }
   ],
   "source": [
    "image_list = []\n",
    "image = cv2.imread(os.path.join('images', 'q4.jpg'), cv2.IMREAD_COLOR)\n",
    "image_list.append([image, 'source', 'img'])\n",
    "image_list.append([RGB_dilate(image, structuring_element), 'dilate', 'img'])\n",
    "image_list.append([RGB_erode(image, structuring_element), 'erode', 'img'])\n",
    "plotter(image_list, 1, 3, True, 8, 6, 'Q4')"
   ]
  },
  {
   "cell_type": "markdown",
   "metadata": {},
   "source": [
    "To create proper files for sending in the Quera run this cell, please."
   ]
  },
  {
   "cell_type": "code",
   "execution_count": 11,
   "metadata": {},
   "outputs": [],
   "source": [
    "!python notebook_converter.py"
   ]
  },
  {
   "cell_type": "markdown",
   "metadata": {},
   "source": [
    "End!!!"
   ]
  }
 ],
 "metadata": {
  "kernelspec": {
   "display_name": "Python 3",
   "language": "python",
   "name": "python3"
  },
  "language_info": {
   "codemirror_mode": {
    "name": "ipython",
    "version": 3
   },
   "file_extension": ".py",
   "mimetype": "text/x-python",
   "name": "python",
   "nbconvert_exporter": "python",
   "pygments_lexer": "ipython3",
   "version": "3.7.6"
  },
  "toc": {
   "base_numbering": 1,
   "nav_menu": {},
   "number_sections": true,
   "sideBar": true,
   "skip_h1_title": false,
   "title_cell": "Table of Contents",
   "title_sidebar": "Contents",
   "toc_cell": false,
   "toc_position": {},
   "toc_section_display": true,
   "toc_window_display": false
  }
 },
 "nbformat": 4,
 "nbformat_minor": 2
}
