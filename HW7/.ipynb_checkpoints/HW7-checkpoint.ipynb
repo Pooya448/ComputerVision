{
 "cells": [
  {
   "cell_type": "markdown",
   "metadata": {},
   "source": [
    "# HomeWork 7\n",
    "\n",
    "**DeadLine : 12:00 PM 19 Aban 1399**\n",
    "\n",
    "**Total points : 165 pts**"
   ]
  },
  {
   "cell_type": "code",
   "execution_count": null,
   "metadata": {},
   "outputs": [],
   "source": [
    "import cv2\n",
    "import numpy as np\n",
    "import matplotlib.pyplot as plt\n",
    "import os"
   ]
  },
  {
   "cell_type": "code",
   "execution_count": null,
   "metadata": {},
   "outputs": [],
   "source": [
    "def plotter(img_list, r, w, gray, wr, hr, fig_name = None):\n",
    "    '''\n",
    "    Plots images' list with its' caption and saves result image if you want.\n",
    "\n",
    "    Parameters:\n",
    "        img_list (list): The list of tuples of image and its' caption.\n",
    "        r (int): The number of row(s).\n",
    "        w (int): The number of colunm(s).\n",
    "        gray (bool): The flag for plotting images in grayscale mode.\n",
    "        wr (int): The width of one figure.\n",
    "        hr (int): The height of one figure.\n",
    "        fig_name (str): The name of the image of the plot. if not set this parameter the plot doesn't save.\n",
    "    '''\n",
    "    \n",
    "    plt.rcParams['figure.figsize'] = (wr, hr)\n",
    "    for i in range(len(img_list)):\n",
    "        plt.subplot(r, w, i + 1)\n",
    "        if img_list[i][2] == 'img':\n",
    "            if gray:\n",
    "                plt.imshow(img_list[i][0], cmap = 'gray')\n",
    "            else:\n",
    "                plt.imshow(img_list[i][0])\n",
    "            plt.xticks([])\n",
    "            plt.yticks([])\n",
    "        elif img_list[i][2] == 'hist':\n",
    "            plt.bar(np.arange(len(img_list[i][0])), img_list[i][0], color = 'c')\n",
    "        else:\n",
    "            raise Exception(\"Only image or histogram. Use third parameter of tuples in img_list and set it to img or hist.\")\n",
    "        plt.title(img_list[i][1])\n",
    "    if fig_name is not None:\n",
    "        plt.savefig(fig_name + '.png')\n",
    "    plt.show()"
   ]
  },
  {
   "cell_type": "markdown",
   "metadata": {},
   "source": [
    "# PART 5A"
   ]
  },
  {
   "cell_type": "markdown",
   "metadata": {},
   "source": [
    "Here is for your helper functions(optional)"
   ]
  },
  {
   "cell_type": "code",
   "execution_count": null,
   "metadata": {},
   "outputs": [],
   "source": []
  },
  {
   "cell_type": "markdown",
   "metadata": {},
   "source": [
    "Implement these functions for converting color spaces."
   ]
  },
  {
   "cell_type": "code",
   "execution_count": null,
   "metadata": {
    "scrolled": true
   },
   "outputs": [],
   "source": [
    "def convert_to_hsv(image):\n",
    "    '''\n",
    "    Converts the color space of the input image to the HSV color space.\n",
    "    \n",
    "    Parameters:\n",
    "        image (numpy.ndarray): The input image.\n",
    "    \n",
    "    Returns:\n",
    "        numpy.ndarray: The result image.\n",
    "    '''\n",
    "    \n",
    "    out_img = image.copy()\n",
    "    \n",
    "    #Write your code here\n",
    "    \n",
    "    \n",
    "    return out_img\n",
    "\n",
    "def convert_to_ycbcr(image):\n",
    "    '''\n",
    "    Converts the color space of the input image to the YCbCr color space.\n",
    "    \n",
    "    Parameters:\n",
    "        image (numpy.ndarray): The input image.\n",
    "    \n",
    "    Returns:\n",
    "        numpy.ndarray: The result image.\n",
    "    '''\n",
    "    \n",
    "    out_img = image.copy()\n",
    "    \n",
    "    #Write your code here\n",
    "    \n",
    "    \n",
    "    return out_img"
   ]
  },
  {
   "cell_type": "markdown",
   "metadata": {},
   "source": [
    "Test your implementation (dont change this cell)"
   ]
  },
  {
   "cell_type": "code",
   "execution_count": null,
   "metadata": {
    "scrolled": true
   },
   "outputs": [],
   "source": [
    "image_list = []\n",
    "\n",
    "image = cv2.imread(os.path.join('images', '5.jpg'))\n",
    "image_list.append([cv2.cvtColor(image, cv2.COLOR_BGR2RGB), 'source', 'img'])\n",
    "\n",
    "image_list.append([convert_to_hsv(image), 'HSV', 'img'])\n",
    "image_list.append([convert_to_ycbcr(image), 'YCBCR', 'img'])\n",
    "\n",
    "plotter(image_list,1 , 3, True, 20, 10, '2A')"
   ]
  },
  {
   "cell_type": "markdown",
   "metadata": {},
   "source": [
    "# PART 5B"
   ]
  },
  {
   "cell_type": "markdown",
   "metadata": {},
   "source": [
    "Here is for your helper functions(optional)"
   ]
  },
  {
   "cell_type": "code",
   "execution_count": null,
   "metadata": {},
   "outputs": [],
   "source": []
  },
  {
   "cell_type": "markdown",
   "metadata": {},
   "source": [
    "Implement this function to get differences between two images."
   ]
  },
  {
   "cell_type": "code",
   "execution_count": null,
   "metadata": {
    "scrolled": true
   },
   "outputs": [],
   "source": [
    "def get_dif(image1, image2):\n",
    "    '''\n",
    "    Creates a new image that differences between two input images are shown.\n",
    "    \n",
    "    Parameters:\n",
    "        image1 (numpy.ndarray): The first input image.\n",
    "        image2 (numpy.ndarray): The second input image.\n",
    "    \n",
    "    Returns:\n",
    "        numpy.ndarray: The result difference image.\n",
    "    '''\n",
    "    \n",
    "    out_img = image1.copy()\n",
    "    \n",
    "    #Write your code here\n",
    "    \n",
    "    \n",
    "    return out_img"
   ]
  },
  {
   "cell_type": "markdown",
   "metadata": {},
   "source": [
    "Test your implementation (dont change this cell)"
   ]
  },
  {
   "cell_type": "code",
   "execution_count": null,
   "metadata": {
    "scrolled": true
   },
   "outputs": [],
   "source": [
    "image_list = []\n",
    "\n",
    "image1 = cv2.imread(os.path.join('images', '5b1.jpg'))\n",
    "image_list.append([cv2.cvtColor(image1, cv2.COLOR_BGR2RGB), 'img1', 'img'])\n",
    "image2 = cv2.imread(os.path.join('images', '5b2.jpg'))\n",
    "image_list.append([cv2.cvtColor(image2, cv2.COLOR_BGR2RGB), 'img2', 'img'])\n",
    "\n",
    "image1 = cv2.imread(os.path.join('images', '5b1.jpg'), cv2.IMREAD_GRAYSCALE)\n",
    "image2 = cv2.imread(os.path.join('images', '5b2.jpg'), cv2.IMREAD_GRAYSCALE)\n",
    "image_list.append([get_dif(image1, image2), 'diff', 'img'])\n",
    "\n",
    "plotter(image_list,1 , 3, True, 20, 10, '2B')"
   ]
  },
  {
   "cell_type": "markdown",
   "metadata": {},
   "source": [
    "# PART 6"
   ]
  },
  {
   "cell_type": "markdown",
   "metadata": {},
   "source": [
    "Here is for your helper functions(optional)"
   ]
  },
  {
   "cell_type": "code",
   "execution_count": null,
   "metadata": {},
   "outputs": [],
   "source": []
  },
  {
   "cell_type": "markdown",
   "metadata": {},
   "source": [
    "Implement this function to process the input frame."
   ]
  },
  {
   "cell_type": "code",
   "execution_count": null,
   "metadata": {},
   "outputs": [],
   "source": [
    "def process_frame(frame):\n",
    "    '''\n",
    "    Converts red circles in the input image to white circles.\n",
    "    \n",
    "    Parameters:\n",
    "        frame (numpy.ndarray): The input frame.\n",
    "    \n",
    "    Returns:\n",
    "        numpy.ndarray: The result output frame.\n",
    "    '''\n",
    "    \n",
    "    result = frame.copy()\n",
    "    \n",
    "    #Write your code here\n",
    "    \n",
    "    \n",
    "    return result"
   ]
  },
  {
   "cell_type": "markdown",
   "metadata": {},
   "source": [
    "Test your implementation (dont change this cell)"
   ]
  },
  {
   "cell_type": "code",
   "execution_count": null,
   "metadata": {},
   "outputs": [],
   "source": [
    "cap = cv2.VideoCapture('balls.mp4')\n",
    "\n",
    "frame_width = int(cap.get(3)) \n",
    "frame_height = int(cap.get(4)) \n",
    "   \n",
    "size = (frame_width, frame_height) \n",
    "fps = cap.get(cv2.CAP_PROP_FPS)\n",
    "out = cv2.VideoWriter('balls_processed.mp4',  \n",
    "                         cv2.VideoWriter_fourcc(*'DIVX'), \n",
    "                         fps, size) \n",
    "\n",
    "while(cap.isOpened()):\n",
    "    ret, frame = cap.read()\n",
    "    if ret:\n",
    "        out.write(process_frame(frame))\n",
    "    else:\n",
    "        break\n",
    "out.release()\n",
    "cap.release()"
   ]
  },
  {
   "cell_type": "code",
   "execution_count": null,
   "metadata": {},
   "outputs": [],
   "source": [
    "from IPython.display import HTML\n",
    "\n",
    "text =  \"\"\"\n",
    "<table>\n",
    "<tr>\n",
    "    <td>\n",
    "        <h3>Input</h3>\n",
    "        <video alt=\"input\" width=\"400\" height=\"240\" autoplay>\n",
    "            <source src=\"balls.mp4\" type=\"video/mp4\">\n",
    "        </video>\n",
    "    </td>\n",
    "    <td>\n",
    "      <h3>Processed</h3>\n",
    "      <video alt=\"output\" width=\"400\" height=\"240\" autoplay>\n",
    "            <source src=\"balls_processed.mp4\" type=\"video/mp4\">\n",
    "      </video>\n",
    "    </td>\n",
    "</tr>\n",
    "</table>\n",
    "\n",
    "\"\"\"\n",
    "HTML(text)"
   ]
  },
  {
   "cell_type": "markdown",
   "metadata": {},
   "source": [
    "# PART 7"
   ]
  },
  {
   "cell_type": "markdown",
   "metadata": {},
   "source": [
    "Here is for your helper functions(optional)"
   ]
  },
  {
   "cell_type": "code",
   "execution_count": null,
   "metadata": {},
   "outputs": [],
   "source": []
  },
  {
   "cell_type": "markdown",
   "metadata": {},
   "source": [
    "Implement this function for Harris detection."
   ]
  },
  {
   "cell_type": "code",
   "execution_count": null,
   "metadata": {},
   "outputs": [],
   "source": [
    "def harris_points(image):\n",
    "    '''\n",
    "    Gets corner points by applying the harris detection algorithm.\n",
    "    \n",
    "    Parameters:\n",
    "        image (numpy.ndarray): The input image.\n",
    "    \n",
    "    Returns:\n",
    "        numpy.ndarray: The result image.\n",
    "    '''\n",
    "    \n",
    "    out_img = image.copy()\n",
    "    \n",
    "    #Write your code here\n",
    "    \n",
    "    \n",
    "    return out_img"
   ]
  },
  {
   "cell_type": "markdown",
   "metadata": {},
   "source": [
    "dont change this cell!!"
   ]
  },
  {
   "cell_type": "code",
   "execution_count": null,
   "metadata": {},
   "outputs": [],
   "source": [
    "image_list = []\n",
    "\n",
    "image = cv2.imread(os.path.join('images', '7.jpg'))\n",
    "image_list.append([cv2.cvtColor(image, cv2.COLOR_BGR2RGB), 'source', 'img'])\n",
    "\n",
    "image_list.append([harris_points(image), 'harris_points', 'img'])\n",
    "\n",
    "plotter(image_list,1 , 2, True, 20, 10, '7')"
   ]
  },
  {
   "cell_type": "markdown",
   "metadata": {},
   "source": [
    "for create proper files for sending in quera run this cell."
   ]
  },
  {
   "cell_type": "code",
   "execution_count": null,
   "metadata": {},
   "outputs": [],
   "source": [
    "!python notebook_converter.py"
   ]
  },
  {
   "cell_type": "markdown",
   "metadata": {},
   "source": [
    "End!!!"
   ]
  }
 ],
 "metadata": {
  "kernelspec": {
   "display_name": "Python 3",
   "language": "python",
   "name": "python3"
  },
  "language_info": {
   "codemirror_mode": {
    "name": "ipython",
    "version": 3
   },
   "file_extension": ".py",
   "mimetype": "text/x-python",
   "name": "python",
   "nbconvert_exporter": "python",
   "pygments_lexer": "ipython3",
   "version": "3.7.6"
  }
 },
 "nbformat": 4,
 "nbformat_minor": 4
}
